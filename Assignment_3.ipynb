{
  "nbformat": 4,
  "nbformat_minor": 0,
  "metadata": {
    "colab": {
      "name": "Assignment 3",
      "provenance": [],
      "collapsed_sections": []
    },
    "kernelspec": {
      "name": "python3",
      "display_name": "Python 3"
    },
    "widgets": {
      "application/vnd.jupyter.widget-state+json": {
        "36efedae22694b15ad2b0b2657c13716": {
          "model_module": "@jupyter-widgets/controls",
          "model_name": "HBoxModel",
          "state": {
            "_view_name": "HBoxView",
            "_dom_classes": [],
            "_model_name": "HBoxModel",
            "_view_module": "@jupyter-widgets/controls",
            "_model_module_version": "1.5.0",
            "_view_count": null,
            "_view_module_version": "1.5.0",
            "box_style": "",
            "layout": "IPY_MODEL_9e25d38d1eb042b191218ca70d0aea0a",
            "_model_module": "@jupyter-widgets/controls",
            "children": [
              "IPY_MODEL_df2a3d53bed74043ae1523ba1a586b41",
              "IPY_MODEL_293e00f0225c42fd8067068ff6e0b972"
            ]
          }
        },
        "9e25d38d1eb042b191218ca70d0aea0a": {
          "model_module": "@jupyter-widgets/base",
          "model_name": "LayoutModel",
          "state": {
            "_view_name": "LayoutView",
            "grid_template_rows": null,
            "right": null,
            "justify_content": null,
            "_view_module": "@jupyter-widgets/base",
            "overflow": null,
            "_model_module_version": "1.2.0",
            "_view_count": null,
            "flex_flow": null,
            "width": null,
            "min_width": null,
            "border": null,
            "align_items": null,
            "bottom": null,
            "_model_module": "@jupyter-widgets/base",
            "top": null,
            "grid_column": null,
            "overflow_y": null,
            "overflow_x": null,
            "grid_auto_flow": null,
            "grid_area": null,
            "grid_template_columns": null,
            "flex": null,
            "_model_name": "LayoutModel",
            "justify_items": null,
            "grid_row": null,
            "max_height": null,
            "align_content": null,
            "visibility": null,
            "align_self": null,
            "height": null,
            "min_height": null,
            "padding": null,
            "grid_auto_rows": null,
            "grid_gap": null,
            "max_width": null,
            "order": null,
            "_view_module_version": "1.2.0",
            "grid_template_areas": null,
            "object_position": null,
            "object_fit": null,
            "grid_auto_columns": null,
            "margin": null,
            "display": null,
            "left": null
          }
        },
        "df2a3d53bed74043ae1523ba1a586b41": {
          "model_module": "@jupyter-widgets/controls",
          "model_name": "FloatProgressModel",
          "state": {
            "_view_name": "ProgressView",
            "style": "IPY_MODEL_1c9ac2f5f7fd4dc0833e2db6acd3f2a1",
            "_dom_classes": [],
            "description": "",
            "_model_name": "FloatProgressModel",
            "bar_style": "info",
            "max": 1,
            "_view_module": "@jupyter-widgets/controls",
            "_model_module_version": "1.5.0",
            "value": 1,
            "_view_count": null,
            "_view_module_version": "1.5.0",
            "orientation": "horizontal",
            "min": 0,
            "description_tooltip": null,
            "_model_module": "@jupyter-widgets/controls",
            "layout": "IPY_MODEL_75cacaba70154a9a8c6b27cd93d81804"
          }
        },
        "293e00f0225c42fd8067068ff6e0b972": {
          "model_module": "@jupyter-widgets/controls",
          "model_name": "HTMLModel",
          "state": {
            "_view_name": "HTMLView",
            "style": "IPY_MODEL_d80e50e981b84a7da3d112cf26edb9c6",
            "_dom_classes": [],
            "description": "",
            "_model_name": "HTMLModel",
            "placeholder": "​",
            "_view_module": "@jupyter-widgets/controls",
            "_model_module_version": "1.5.0",
            "value": " 26427392/? [00:20&lt;00:00, 9160290.00it/s]",
            "_view_count": null,
            "_view_module_version": "1.5.0",
            "description_tooltip": null,
            "_model_module": "@jupyter-widgets/controls",
            "layout": "IPY_MODEL_4b189f5cb7c648a5b4cc2c97246ba166"
          }
        },
        "1c9ac2f5f7fd4dc0833e2db6acd3f2a1": {
          "model_module": "@jupyter-widgets/controls",
          "model_name": "ProgressStyleModel",
          "state": {
            "_view_name": "StyleView",
            "_model_name": "ProgressStyleModel",
            "description_width": "initial",
            "_view_module": "@jupyter-widgets/base",
            "_model_module_version": "1.5.0",
            "_view_count": null,
            "_view_module_version": "1.2.0",
            "bar_color": null,
            "_model_module": "@jupyter-widgets/controls"
          }
        },
        "75cacaba70154a9a8c6b27cd93d81804": {
          "model_module": "@jupyter-widgets/base",
          "model_name": "LayoutModel",
          "state": {
            "_view_name": "LayoutView",
            "grid_template_rows": null,
            "right": null,
            "justify_content": null,
            "_view_module": "@jupyter-widgets/base",
            "overflow": null,
            "_model_module_version": "1.2.0",
            "_view_count": null,
            "flex_flow": null,
            "width": null,
            "min_width": null,
            "border": null,
            "align_items": null,
            "bottom": null,
            "_model_module": "@jupyter-widgets/base",
            "top": null,
            "grid_column": null,
            "overflow_y": null,
            "overflow_x": null,
            "grid_auto_flow": null,
            "grid_area": null,
            "grid_template_columns": null,
            "flex": null,
            "_model_name": "LayoutModel",
            "justify_items": null,
            "grid_row": null,
            "max_height": null,
            "align_content": null,
            "visibility": null,
            "align_self": null,
            "height": null,
            "min_height": null,
            "padding": null,
            "grid_auto_rows": null,
            "grid_gap": null,
            "max_width": null,
            "order": null,
            "_view_module_version": "1.2.0",
            "grid_template_areas": null,
            "object_position": null,
            "object_fit": null,
            "grid_auto_columns": null,
            "margin": null,
            "display": null,
            "left": null
          }
        },
        "d80e50e981b84a7da3d112cf26edb9c6": {
          "model_module": "@jupyter-widgets/controls",
          "model_name": "DescriptionStyleModel",
          "state": {
            "_view_name": "StyleView",
            "_model_name": "DescriptionStyleModel",
            "description_width": "",
            "_view_module": "@jupyter-widgets/base",
            "_model_module_version": "1.5.0",
            "_view_count": null,
            "_view_module_version": "1.2.0",
            "_model_module": "@jupyter-widgets/controls"
          }
        },
        "4b189f5cb7c648a5b4cc2c97246ba166": {
          "model_module": "@jupyter-widgets/base",
          "model_name": "LayoutModel",
          "state": {
            "_view_name": "LayoutView",
            "grid_template_rows": null,
            "right": null,
            "justify_content": null,
            "_view_module": "@jupyter-widgets/base",
            "overflow": null,
            "_model_module_version": "1.2.0",
            "_view_count": null,
            "flex_flow": null,
            "width": null,
            "min_width": null,
            "border": null,
            "align_items": null,
            "bottom": null,
            "_model_module": "@jupyter-widgets/base",
            "top": null,
            "grid_column": null,
            "overflow_y": null,
            "overflow_x": null,
            "grid_auto_flow": null,
            "grid_area": null,
            "grid_template_columns": null,
            "flex": null,
            "_model_name": "LayoutModel",
            "justify_items": null,
            "grid_row": null,
            "max_height": null,
            "align_content": null,
            "visibility": null,
            "align_self": null,
            "height": null,
            "min_height": null,
            "padding": null,
            "grid_auto_rows": null,
            "grid_gap": null,
            "max_width": null,
            "order": null,
            "_view_module_version": "1.2.0",
            "grid_template_areas": null,
            "object_position": null,
            "object_fit": null,
            "grid_auto_columns": null,
            "margin": null,
            "display": null,
            "left": null
          }
        },
        "f000355bfaab446e848cb5a514bf4da5": {
          "model_module": "@jupyter-widgets/controls",
          "model_name": "HBoxModel",
          "state": {
            "_view_name": "HBoxView",
            "_dom_classes": [],
            "_model_name": "HBoxModel",
            "_view_module": "@jupyter-widgets/controls",
            "_model_module_version": "1.5.0",
            "_view_count": null,
            "_view_module_version": "1.5.0",
            "box_style": "",
            "layout": "IPY_MODEL_6598c77c95a9498f94374ccd3c06313f",
            "_model_module": "@jupyter-widgets/controls",
            "children": [
              "IPY_MODEL_385180ed9c0448eb928331ca628ffc2e",
              "IPY_MODEL_3d6f8cbb6e364ab884df0c398c6c5467"
            ]
          }
        },
        "6598c77c95a9498f94374ccd3c06313f": {
          "model_module": "@jupyter-widgets/base",
          "model_name": "LayoutModel",
          "state": {
            "_view_name": "LayoutView",
            "grid_template_rows": null,
            "right": null,
            "justify_content": null,
            "_view_module": "@jupyter-widgets/base",
            "overflow": null,
            "_model_module_version": "1.2.0",
            "_view_count": null,
            "flex_flow": null,
            "width": null,
            "min_width": null,
            "border": null,
            "align_items": null,
            "bottom": null,
            "_model_module": "@jupyter-widgets/base",
            "top": null,
            "grid_column": null,
            "overflow_y": null,
            "overflow_x": null,
            "grid_auto_flow": null,
            "grid_area": null,
            "grid_template_columns": null,
            "flex": null,
            "_model_name": "LayoutModel",
            "justify_items": null,
            "grid_row": null,
            "max_height": null,
            "align_content": null,
            "visibility": null,
            "align_self": null,
            "height": null,
            "min_height": null,
            "padding": null,
            "grid_auto_rows": null,
            "grid_gap": null,
            "max_width": null,
            "order": null,
            "_view_module_version": "1.2.0",
            "grid_template_areas": null,
            "object_position": null,
            "object_fit": null,
            "grid_auto_columns": null,
            "margin": null,
            "display": null,
            "left": null
          }
        },
        "385180ed9c0448eb928331ca628ffc2e": {
          "model_module": "@jupyter-widgets/controls",
          "model_name": "FloatProgressModel",
          "state": {
            "_view_name": "ProgressView",
            "style": "IPY_MODEL_c8558e8a76fa406da302aba8e70cedb5",
            "_dom_classes": [],
            "description": "",
            "_model_name": "FloatProgressModel",
            "bar_style": "success",
            "max": 1,
            "_view_module": "@jupyter-widgets/controls",
            "_model_module_version": "1.5.0",
            "value": 1,
            "_view_count": null,
            "_view_module_version": "1.5.0",
            "orientation": "horizontal",
            "min": 0,
            "description_tooltip": null,
            "_model_module": "@jupyter-widgets/controls",
            "layout": "IPY_MODEL_5db9888083bf4cbf919dc53426035704"
          }
        },
        "3d6f8cbb6e364ab884df0c398c6c5467": {
          "model_module": "@jupyter-widgets/controls",
          "model_name": "HTMLModel",
          "state": {
            "_view_name": "HTMLView",
            "style": "IPY_MODEL_0d0dbbff8fa84aafa52209571bfc0d49",
            "_dom_classes": [],
            "description": "",
            "_model_name": "HTMLModel",
            "placeholder": "​",
            "_view_module": "@jupyter-widgets/controls",
            "_model_module_version": "1.5.0",
            "value": " 32768/? [00:01&lt;00:00, 19854.22it/s]",
            "_view_count": null,
            "_view_module_version": "1.5.0",
            "description_tooltip": null,
            "_model_module": "@jupyter-widgets/controls",
            "layout": "IPY_MODEL_3d8188f6c244404e9ed70758e86cfe02"
          }
        },
        "c8558e8a76fa406da302aba8e70cedb5": {
          "model_module": "@jupyter-widgets/controls",
          "model_name": "ProgressStyleModel",
          "state": {
            "_view_name": "StyleView",
            "_model_name": "ProgressStyleModel",
            "description_width": "initial",
            "_view_module": "@jupyter-widgets/base",
            "_model_module_version": "1.5.0",
            "_view_count": null,
            "_view_module_version": "1.2.0",
            "bar_color": null,
            "_model_module": "@jupyter-widgets/controls"
          }
        },
        "5db9888083bf4cbf919dc53426035704": {
          "model_module": "@jupyter-widgets/base",
          "model_name": "LayoutModel",
          "state": {
            "_view_name": "LayoutView",
            "grid_template_rows": null,
            "right": null,
            "justify_content": null,
            "_view_module": "@jupyter-widgets/base",
            "overflow": null,
            "_model_module_version": "1.2.0",
            "_view_count": null,
            "flex_flow": null,
            "width": null,
            "min_width": null,
            "border": null,
            "align_items": null,
            "bottom": null,
            "_model_module": "@jupyter-widgets/base",
            "top": null,
            "grid_column": null,
            "overflow_y": null,
            "overflow_x": null,
            "grid_auto_flow": null,
            "grid_area": null,
            "grid_template_columns": null,
            "flex": null,
            "_model_name": "LayoutModel",
            "justify_items": null,
            "grid_row": null,
            "max_height": null,
            "align_content": null,
            "visibility": null,
            "align_self": null,
            "height": null,
            "min_height": null,
            "padding": null,
            "grid_auto_rows": null,
            "grid_gap": null,
            "max_width": null,
            "order": null,
            "_view_module_version": "1.2.0",
            "grid_template_areas": null,
            "object_position": null,
            "object_fit": null,
            "grid_auto_columns": null,
            "margin": null,
            "display": null,
            "left": null
          }
        },
        "0d0dbbff8fa84aafa52209571bfc0d49": {
          "model_module": "@jupyter-widgets/controls",
          "model_name": "DescriptionStyleModel",
          "state": {
            "_view_name": "StyleView",
            "_model_name": "DescriptionStyleModel",
            "description_width": "",
            "_view_module": "@jupyter-widgets/base",
            "_model_module_version": "1.5.0",
            "_view_count": null,
            "_view_module_version": "1.2.0",
            "_model_module": "@jupyter-widgets/controls"
          }
        },
        "3d8188f6c244404e9ed70758e86cfe02": {
          "model_module": "@jupyter-widgets/base",
          "model_name": "LayoutModel",
          "state": {
            "_view_name": "LayoutView",
            "grid_template_rows": null,
            "right": null,
            "justify_content": null,
            "_view_module": "@jupyter-widgets/base",
            "overflow": null,
            "_model_module_version": "1.2.0",
            "_view_count": null,
            "flex_flow": null,
            "width": null,
            "min_width": null,
            "border": null,
            "align_items": null,
            "bottom": null,
            "_model_module": "@jupyter-widgets/base",
            "top": null,
            "grid_column": null,
            "overflow_y": null,
            "overflow_x": null,
            "grid_auto_flow": null,
            "grid_area": null,
            "grid_template_columns": null,
            "flex": null,
            "_model_name": "LayoutModel",
            "justify_items": null,
            "grid_row": null,
            "max_height": null,
            "align_content": null,
            "visibility": null,
            "align_self": null,
            "height": null,
            "min_height": null,
            "padding": null,
            "grid_auto_rows": null,
            "grid_gap": null,
            "max_width": null,
            "order": null,
            "_view_module_version": "1.2.0",
            "grid_template_areas": null,
            "object_position": null,
            "object_fit": null,
            "grid_auto_columns": null,
            "margin": null,
            "display": null,
            "left": null
          }
        },
        "263f836e74804e339c45170ac09e9c7d": {
          "model_module": "@jupyter-widgets/controls",
          "model_name": "HBoxModel",
          "state": {
            "_view_name": "HBoxView",
            "_dom_classes": [],
            "_model_name": "HBoxModel",
            "_view_module": "@jupyter-widgets/controls",
            "_model_module_version": "1.5.0",
            "_view_count": null,
            "_view_module_version": "1.5.0",
            "box_style": "",
            "layout": "IPY_MODEL_93301b7a01af409c91966ef3821b2ae0",
            "_model_module": "@jupyter-widgets/controls",
            "children": [
              "IPY_MODEL_6496422b63344c0d8de3b7baf0b16b0f",
              "IPY_MODEL_87b67e61a0b54d95b3221eb6bda7a8cf"
            ]
          }
        },
        "93301b7a01af409c91966ef3821b2ae0": {
          "model_module": "@jupyter-widgets/base",
          "model_name": "LayoutModel",
          "state": {
            "_view_name": "LayoutView",
            "grid_template_rows": null,
            "right": null,
            "justify_content": null,
            "_view_module": "@jupyter-widgets/base",
            "overflow": null,
            "_model_module_version": "1.2.0",
            "_view_count": null,
            "flex_flow": null,
            "width": null,
            "min_width": null,
            "border": null,
            "align_items": null,
            "bottom": null,
            "_model_module": "@jupyter-widgets/base",
            "top": null,
            "grid_column": null,
            "overflow_y": null,
            "overflow_x": null,
            "grid_auto_flow": null,
            "grid_area": null,
            "grid_template_columns": null,
            "flex": null,
            "_model_name": "LayoutModel",
            "justify_items": null,
            "grid_row": null,
            "max_height": null,
            "align_content": null,
            "visibility": null,
            "align_self": null,
            "height": null,
            "min_height": null,
            "padding": null,
            "grid_auto_rows": null,
            "grid_gap": null,
            "max_width": null,
            "order": null,
            "_view_module_version": "1.2.0",
            "grid_template_areas": null,
            "object_position": null,
            "object_fit": null,
            "grid_auto_columns": null,
            "margin": null,
            "display": null,
            "left": null
          }
        },
        "6496422b63344c0d8de3b7baf0b16b0f": {
          "model_module": "@jupyter-widgets/controls",
          "model_name": "FloatProgressModel",
          "state": {
            "_view_name": "ProgressView",
            "style": "IPY_MODEL_a173068f712d4be1977fe9e503edad65",
            "_dom_classes": [],
            "description": "",
            "_model_name": "FloatProgressModel",
            "bar_style": "success",
            "max": 1,
            "_view_module": "@jupyter-widgets/controls",
            "_model_module_version": "1.5.0",
            "value": 1,
            "_view_count": null,
            "_view_module_version": "1.5.0",
            "orientation": "horizontal",
            "min": 0,
            "description_tooltip": null,
            "_model_module": "@jupyter-widgets/controls",
            "layout": "IPY_MODEL_7ba23ab9a0e04665bfaecde31065237f"
          }
        },
        "87b67e61a0b54d95b3221eb6bda7a8cf": {
          "model_module": "@jupyter-widgets/controls",
          "model_name": "HTMLModel",
          "state": {
            "_view_name": "HTMLView",
            "style": "IPY_MODEL_d3cd8dd6c5ae462e93b85d01db6bc244",
            "_dom_classes": [],
            "description": "",
            "_model_name": "HTMLModel",
            "placeholder": "​",
            "_view_module": "@jupyter-widgets/controls",
            "_model_module_version": "1.5.0",
            "value": " 4423680/? [00:01&lt;00:00, 3441899.64it/s]",
            "_view_count": null,
            "_view_module_version": "1.5.0",
            "description_tooltip": null,
            "_model_module": "@jupyter-widgets/controls",
            "layout": "IPY_MODEL_12f764fa984f4b798c172c381efc0b0e"
          }
        },
        "a173068f712d4be1977fe9e503edad65": {
          "model_module": "@jupyter-widgets/controls",
          "model_name": "ProgressStyleModel",
          "state": {
            "_view_name": "StyleView",
            "_model_name": "ProgressStyleModel",
            "description_width": "initial",
            "_view_module": "@jupyter-widgets/base",
            "_model_module_version": "1.5.0",
            "_view_count": null,
            "_view_module_version": "1.2.0",
            "bar_color": null,
            "_model_module": "@jupyter-widgets/controls"
          }
        },
        "7ba23ab9a0e04665bfaecde31065237f": {
          "model_module": "@jupyter-widgets/base",
          "model_name": "LayoutModel",
          "state": {
            "_view_name": "LayoutView",
            "grid_template_rows": null,
            "right": null,
            "justify_content": null,
            "_view_module": "@jupyter-widgets/base",
            "overflow": null,
            "_model_module_version": "1.2.0",
            "_view_count": null,
            "flex_flow": null,
            "width": null,
            "min_width": null,
            "border": null,
            "align_items": null,
            "bottom": null,
            "_model_module": "@jupyter-widgets/base",
            "top": null,
            "grid_column": null,
            "overflow_y": null,
            "overflow_x": null,
            "grid_auto_flow": null,
            "grid_area": null,
            "grid_template_columns": null,
            "flex": null,
            "_model_name": "LayoutModel",
            "justify_items": null,
            "grid_row": null,
            "max_height": null,
            "align_content": null,
            "visibility": null,
            "align_self": null,
            "height": null,
            "min_height": null,
            "padding": null,
            "grid_auto_rows": null,
            "grid_gap": null,
            "max_width": null,
            "order": null,
            "_view_module_version": "1.2.0",
            "grid_template_areas": null,
            "object_position": null,
            "object_fit": null,
            "grid_auto_columns": null,
            "margin": null,
            "display": null,
            "left": null
          }
        },
        "d3cd8dd6c5ae462e93b85d01db6bc244": {
          "model_module": "@jupyter-widgets/controls",
          "model_name": "DescriptionStyleModel",
          "state": {
            "_view_name": "StyleView",
            "_model_name": "DescriptionStyleModel",
            "description_width": "",
            "_view_module": "@jupyter-widgets/base",
            "_model_module_version": "1.5.0",
            "_view_count": null,
            "_view_module_version": "1.2.0",
            "_model_module": "@jupyter-widgets/controls"
          }
        },
        "12f764fa984f4b798c172c381efc0b0e": {
          "model_module": "@jupyter-widgets/base",
          "model_name": "LayoutModel",
          "state": {
            "_view_name": "LayoutView",
            "grid_template_rows": null,
            "right": null,
            "justify_content": null,
            "_view_module": "@jupyter-widgets/base",
            "overflow": null,
            "_model_module_version": "1.2.0",
            "_view_count": null,
            "flex_flow": null,
            "width": null,
            "min_width": null,
            "border": null,
            "align_items": null,
            "bottom": null,
            "_model_module": "@jupyter-widgets/base",
            "top": null,
            "grid_column": null,
            "overflow_y": null,
            "overflow_x": null,
            "grid_auto_flow": null,
            "grid_area": null,
            "grid_template_columns": null,
            "flex": null,
            "_model_name": "LayoutModel",
            "justify_items": null,
            "grid_row": null,
            "max_height": null,
            "align_content": null,
            "visibility": null,
            "align_self": null,
            "height": null,
            "min_height": null,
            "padding": null,
            "grid_auto_rows": null,
            "grid_gap": null,
            "max_width": null,
            "order": null,
            "_view_module_version": "1.2.0",
            "grid_template_areas": null,
            "object_position": null,
            "object_fit": null,
            "grid_auto_columns": null,
            "margin": null,
            "display": null,
            "left": null
          }
        },
        "eaaad6e3bddf45c382f7c8a69e9dddb4": {
          "model_module": "@jupyter-widgets/controls",
          "model_name": "HBoxModel",
          "state": {
            "_view_name": "HBoxView",
            "_dom_classes": [],
            "_model_name": "HBoxModel",
            "_view_module": "@jupyter-widgets/controls",
            "_model_module_version": "1.5.0",
            "_view_count": null,
            "_view_module_version": "1.5.0",
            "box_style": "",
            "layout": "IPY_MODEL_4b55d7668a5f430da4afde7845e1d26f",
            "_model_module": "@jupyter-widgets/controls",
            "children": [
              "IPY_MODEL_edb7ab015590488eb8fe6e1ee8a864b4",
              "IPY_MODEL_206355984568421caab5d5db47ecd0c2"
            ]
          }
        },
        "4b55d7668a5f430da4afde7845e1d26f": {
          "model_module": "@jupyter-widgets/base",
          "model_name": "LayoutModel",
          "state": {
            "_view_name": "LayoutView",
            "grid_template_rows": null,
            "right": null,
            "justify_content": null,
            "_view_module": "@jupyter-widgets/base",
            "overflow": null,
            "_model_module_version": "1.2.0",
            "_view_count": null,
            "flex_flow": null,
            "width": null,
            "min_width": null,
            "border": null,
            "align_items": null,
            "bottom": null,
            "_model_module": "@jupyter-widgets/base",
            "top": null,
            "grid_column": null,
            "overflow_y": null,
            "overflow_x": null,
            "grid_auto_flow": null,
            "grid_area": null,
            "grid_template_columns": null,
            "flex": null,
            "_model_name": "LayoutModel",
            "justify_items": null,
            "grid_row": null,
            "max_height": null,
            "align_content": null,
            "visibility": null,
            "align_self": null,
            "height": null,
            "min_height": null,
            "padding": null,
            "grid_auto_rows": null,
            "grid_gap": null,
            "max_width": null,
            "order": null,
            "_view_module_version": "1.2.0",
            "grid_template_areas": null,
            "object_position": null,
            "object_fit": null,
            "grid_auto_columns": null,
            "margin": null,
            "display": null,
            "left": null
          }
        },
        "edb7ab015590488eb8fe6e1ee8a864b4": {
          "model_module": "@jupyter-widgets/controls",
          "model_name": "FloatProgressModel",
          "state": {
            "_view_name": "ProgressView",
            "style": "IPY_MODEL_2ad1dc1ebb05425dae4692fcd0b2055b",
            "_dom_classes": [],
            "description": "  0%",
            "_model_name": "FloatProgressModel",
            "bar_style": "info",
            "max": 1,
            "_view_module": "@jupyter-widgets/controls",
            "_model_module_version": "1.5.0",
            "value": 0,
            "_view_count": null,
            "_view_module_version": "1.5.0",
            "orientation": "horizontal",
            "min": 0,
            "description_tooltip": null,
            "_model_module": "@jupyter-widgets/controls",
            "layout": "IPY_MODEL_97c2e9654a384833a270e646f1573b06"
          }
        },
        "206355984568421caab5d5db47ecd0c2": {
          "model_module": "@jupyter-widgets/controls",
          "model_name": "HTMLModel",
          "state": {
            "_view_name": "HTMLView",
            "style": "IPY_MODEL_2c776312a3d340fe89442a3391c29ea5",
            "_dom_classes": [],
            "description": "",
            "_model_name": "HTMLModel",
            "placeholder": "​",
            "_view_module": "@jupyter-widgets/controls",
            "_model_module_version": "1.5.0",
            "value": " 0/5148 [00:00&lt;?, ?it/s]",
            "_view_count": null,
            "_view_module_version": "1.5.0",
            "description_tooltip": null,
            "_model_module": "@jupyter-widgets/controls",
            "layout": "IPY_MODEL_377c4575280e4011bfd5d0607641c4ad"
          }
        },
        "2ad1dc1ebb05425dae4692fcd0b2055b": {
          "model_module": "@jupyter-widgets/controls",
          "model_name": "ProgressStyleModel",
          "state": {
            "_view_name": "StyleView",
            "_model_name": "ProgressStyleModel",
            "description_width": "initial",
            "_view_module": "@jupyter-widgets/base",
            "_model_module_version": "1.5.0",
            "_view_count": null,
            "_view_module_version": "1.2.0",
            "bar_color": null,
            "_model_module": "@jupyter-widgets/controls"
          }
        },
        "97c2e9654a384833a270e646f1573b06": {
          "model_module": "@jupyter-widgets/base",
          "model_name": "LayoutModel",
          "state": {
            "_view_name": "LayoutView",
            "grid_template_rows": null,
            "right": null,
            "justify_content": null,
            "_view_module": "@jupyter-widgets/base",
            "overflow": null,
            "_model_module_version": "1.2.0",
            "_view_count": null,
            "flex_flow": null,
            "width": null,
            "min_width": null,
            "border": null,
            "align_items": null,
            "bottom": null,
            "_model_module": "@jupyter-widgets/base",
            "top": null,
            "grid_column": null,
            "overflow_y": null,
            "overflow_x": null,
            "grid_auto_flow": null,
            "grid_area": null,
            "grid_template_columns": null,
            "flex": null,
            "_model_name": "LayoutModel",
            "justify_items": null,
            "grid_row": null,
            "max_height": null,
            "align_content": null,
            "visibility": null,
            "align_self": null,
            "height": null,
            "min_height": null,
            "padding": null,
            "grid_auto_rows": null,
            "grid_gap": null,
            "max_width": null,
            "order": null,
            "_view_module_version": "1.2.0",
            "grid_template_areas": null,
            "object_position": null,
            "object_fit": null,
            "grid_auto_columns": null,
            "margin": null,
            "display": null,
            "left": null
          }
        },
        "2c776312a3d340fe89442a3391c29ea5": {
          "model_module": "@jupyter-widgets/controls",
          "model_name": "DescriptionStyleModel",
          "state": {
            "_view_name": "StyleView",
            "_model_name": "DescriptionStyleModel",
            "description_width": "",
            "_view_module": "@jupyter-widgets/base",
            "_model_module_version": "1.5.0",
            "_view_count": null,
            "_view_module_version": "1.2.0",
            "_model_module": "@jupyter-widgets/controls"
          }
        },
        "377c4575280e4011bfd5d0607641c4ad": {
          "model_module": "@jupyter-widgets/base",
          "model_name": "LayoutModel",
          "state": {
            "_view_name": "LayoutView",
            "grid_template_rows": null,
            "right": null,
            "justify_content": null,
            "_view_module": "@jupyter-widgets/base",
            "overflow": null,
            "_model_module_version": "1.2.0",
            "_view_count": null,
            "flex_flow": null,
            "width": null,
            "min_width": null,
            "border": null,
            "align_items": null,
            "bottom": null,
            "_model_module": "@jupyter-widgets/base",
            "top": null,
            "grid_column": null,
            "overflow_y": null,
            "overflow_x": null,
            "grid_auto_flow": null,
            "grid_area": null,
            "grid_template_columns": null,
            "flex": null,
            "_model_name": "LayoutModel",
            "justify_items": null,
            "grid_row": null,
            "max_height": null,
            "align_content": null,
            "visibility": null,
            "align_self": null,
            "height": null,
            "min_height": null,
            "padding": null,
            "grid_auto_rows": null,
            "grid_gap": null,
            "max_width": null,
            "order": null,
            "_view_module_version": "1.2.0",
            "grid_template_areas": null,
            "object_position": null,
            "object_fit": null,
            "grid_auto_columns": null,
            "margin": null,
            "display": null,
            "left": null
          }
        }
      }
    }
  },
  "cells": [
    {
      "cell_type": "code",
      "metadata": {
        "colab_type": "code",
        "id": "5L1jkNUOkZ2Q",
        "colab": {}
      },
      "source": [
        "import random\n",
        "import pandas as pd\n",
        "import numpy as np\n",
        "import torchvision\n",
        "from google.colab import drive\n",
        "import matplotlib.pyplot as plt\n",
        "from sklearn.model_selection import train_test_split\n",
        "from sklearn.tree import *\n",
        "from sklearn.metrics import confusion_matrix, zero_one_loss, mean_squared_error, accuracy_score\n",
        "from sklearn.ensemble import RandomForestClassifier, RandomForestRegressor\n",
        "from sklearn.model_selection import GridSearchCV\n",
        "from sklearn.base import BaseEstimator\n",
        "from torchvision import transforms\n",
        "from collections import defaultdict\n",
        "import math"
      ],
      "execution_count": null,
      "outputs": []
    },
    {
      "cell_type": "markdown",
      "metadata": {
        "id": "jnh3LsHi1WoQ",
        "colab_type": "text"
      },
      "source": [
        "# Section 1: Weighted Random Forest implementation\n",
        "\n",
        "In the first part, you are requested to implement a variation of Random Forest, which we will call \"weighted\" random forest (WRF vs. RF).\n"
      ]
    },
    {
      "cell_type": "code",
      "metadata": {
        "colab_type": "code",
        "id": "rm0TP49RkiRO",
        "colab": {}
      },
      "source": [
        "# TODO 1: implement WRF following the provided class API. You should support both, classification as\n",
        "# well as regression (the type argument can be either \"cat\" or \"reg\"). You should use DecisionTreeClassifier\n",
        "# and DecisionTreeRegressor as the underlying trees.\n",
        "\n",
        "class WRF(BaseEstimator):\n",
        "  def __init__(self, n_trees=100, max_depth=5, n_features=None, type=\"cat\", weight_type=\"div\"):\n",
        "    \n",
        "    '''\n",
        "      init a WRF classifier with the following parameters:\n",
        "      \n",
        "      n_trees: the number of trees to use.\n",
        "      max_depth: the depth of each tree (will be passed along to DecisionTreeClassifier/DecisionTreeRegressor).\n",
        "      n_features: the number of features to use for every split. The number should be given to DecisionTreeClassifier/Regressor as max_features.\n",
        "      type: \"cat\" for categorization and \"reg\" for regression.\n",
        "      weight_type: the tree weighting technique. 'div' for 1/error and 'sub' for 1-error.\n",
        "    '''\n",
        "\n",
        "    self.n_trees = n_trees\n",
        "    self.max_depth = max_depth\n",
        "    self.n_features = n_features\n",
        "    self.type = type\n",
        "    self.weight_type = weight_type\n",
        "\n",
        "  def fit(self, X, y):\n",
        "    \n",
        "    '''\n",
        "      fit the classifier for the data X with response y. \n",
        "    '''\n",
        "\n",
        "    self.trees = []\n",
        "    self.weights = []\n",
        "    for n in range(self.n_trees):\n",
        "      tree = self.build_tree()\n",
        "      self.trees.append(tree)\n",
        "      X_tree, y_tree, X_oob, y_oob = self.bootstrap(X, y)\n",
        "      tree.fit(X_tree, y_tree)\n",
        "      weight = self.calculate_weight(tree, X_oob, y_oob)\n",
        "      self.weights.append(weight)\n",
        "\n",
        "      # Normalizing the weights so they sum to 1\n",
        "      weights_sum = sum(self.weights)\n",
        "      self.weights = [weight / weights_sum for weight in self.weights]\n",
        "      \n",
        "  def build_tree(self):\n",
        "    \n",
        "    tree = None\n",
        "    \n",
        "    if self.type == \"cat\":\n",
        "      tree = DecisionTreeClassifier(max_depth=self.max_depth, max_features=self.n_features)\n",
        "    else:\n",
        "      tree = DecisionTreeRegressor(max_depth=self.max_depth, max_features=self.n_features)\n",
        "    \n",
        "    return tree\n",
        "  \n",
        "  def bootstrap(self, X, y):\n",
        "    \n",
        "    '''\n",
        "      This method creates a bootstrap of the dataset (uniformly sample len(X) samples from X with repetitions).\n",
        "      It returns X_tree, y_tree, X_oob, y_oob.\n",
        "      X_tree, y_tree are the bootstrap collections for the given X and y.\n",
        "      X_oob, y_oob are the out of bag remaining instances (the ones that were not sampled as part of the bootstrap)\n",
        "    '''\n",
        "\n",
        "    samples = random.choices(range(len(X)), k=len(X))\n",
        "    X_tree, y_tree = [X[i] for i in samples], [y[i] for i in samples]\n",
        "    X_oob, y_oob = [X[i] for i in range(len(X)) if i not in samples], [y[i] for i in range(len(X)) if i not in samples]\n",
        "    \n",
        "    return X_tree, y_tree, X_oob, y_oob\n",
        "    \n",
        "  def calculate_weight(self, tree, X_oob, y_oob):\n",
        "    \n",
        "    '''\n",
        "      This method calculates a weight for the given tree, based on it's performance on\n",
        "      the OOB instances. We support two different types:\n",
        "      if self.weight_type == 'div', we should return 1/error and if it's 'sub' we should\n",
        "      return 1-error. The error is the normalized error rate of the tree on OOB instances.\n",
        "      For classification use 0/1 loss error (i.e., count 1 for every wrong OOB instance and divide by the numbner of OOB instances),\n",
        "      and for regression use mean square error of the OOB instances.\n",
        "    '''\n",
        "\n",
        "    y_hat = tree.predict(X_oob)\n",
        "    error = zero_one_loss(y_oob, y_hat) if self.type == \"cat\" else mean_squared_error(y_oob, y_hat)\n",
        "\n",
        "    return 1 / error if self.weight_type == \"div\" else 1 - error\n",
        "  \n",
        "  def predict(self, X):\n",
        "    \n",
        "    '''\n",
        "      Predict the label/value of the given instances in the X matrix.\n",
        "      For classification you should implement weighted voting, and for regression implement weighted mean.\n",
        "      Return a list of predictions for the given instances.\n",
        "    '''\n",
        "\n",
        "    trees_preds = [tree.predict(X) for tree in self.trees]\n",
        "    trees_preds = np.array(trees_preds).transpose()  \n",
        "\n",
        "    wrf_preds = []\n",
        "\n",
        "    for preds in trees_preds:\n",
        "      \n",
        "      if self.type == \"cat\":\n",
        "        scores = defaultdict(lambda: 0)\n",
        "        for i, tree_pred in enumerate(preds):\n",
        "          scores[tree_pred] += self.weights[i]\n",
        "        wrf_preds.append(max(scores, key=scores.get))\n",
        "      \n",
        "      else:\n",
        "        scores = [tree_pred * self.weights[i] for i, tree_pred in enumerate(preds)]\n",
        "        wrf_preds.append(sum(scores)) # The weights sum to 1, so the weighted mean is sum(scores)/1\n",
        "\n",
        "    return wrf_preds\n",
        "      "
      ],
      "execution_count": null,
      "outputs": []
    },
    {
      "cell_type": "markdown",
      "metadata": {
        "id": "AweBS3ty84vI",
        "colab_type": "text"
      },
      "source": [
        "# Section 2: Evaluation\n",
        "\n",
        "In this section you are requested to evaluate your implementation, and compare it with RandomForestClassifier and RandomForestRegressor."
      ]
    },
    {
      "cell_type": "code",
      "metadata": {
        "colab_type": "code",
        "id": "6vX0guoKknTF",
        "colab": {}
      },
      "source": [
        "# TODO 3: Implement a tuning method for your classifier. \n",
        "# Note: you could potentially implement WRF as a sklearn classifier and then \n",
        "# simply use GridSearchCV inside. For those of you who want to take this route, \n",
        "# you are welcome to modify the implementation of WRF accordingly. Check out: https://scikit-learn.org/stable/developers/contributing.html#rolling-your-own-estimator\n",
        "\n",
        "def tune(classifier, X, y, arguments, performance, cv=5):\n",
        "  \n",
        "  '''\n",
        "    This method is doing exactly what GridSearchCV is doing for a sklearn classifier.\n",
        "    It will run cross validation training with cv folds many times. Each time it will evaluate the CV \"performance\" on a different\n",
        "    combination of the given arguments. You should check every combination of the given arguments and return a dictionary with \n",
        "    the best argument combination. For classification, \"performance\" is accuracy. For Regression, \"performance\" is mean square error.\n",
        "    \n",
        "    classifier: it's the WRF classifier to tune\n",
        "    X, y: the dataset to tune over\n",
        "    arguments: a dictionary with keys are one of n_trees, max_depth, n_features, weight_type\n",
        "    and the values are lists of values to test for each argument (see more in GridSearchCV)\n",
        "  '''\n",
        "\n",
        "  gcv = GridSearchCV(classifier, arguments, cv=cv, scoring=performance, n_jobs=3)\n",
        "  gcv.fit(X, y)\n",
        "\n",
        "  return gcv.best_params_"
      ],
      "execution_count": null,
      "outputs": []
    },
    {
      "cell_type": "code",
      "metadata": {
        "id": "2nuDmPrXNjeg",
        "colab_type": "code",
        "colab": {}
      },
      "source": [
        "# TODO 4: Evaluate your implementation and compare it to RandomForestClassifier/Regressor provided by sklearn.\n",
        "\n",
        "# For classification use the Fashion MNIST, but subsample the dataset to contain only 7K instances (out of the 60K available instances, you may simply select the first 7K instance from the data).\n",
        "# - Tune both classifiers (WRF and RandomForestClassifier) before evaluation.\n",
        "# - Evaluate both classifiers on the first 5K instances from the provided test data.\n",
        "# - Report accuracy, and provide a full confusion matrix for each classifier.\n",
        "\n",
        "# For regression use the California housing dataset from Kaggle that we used in class:\n",
        "# https://www.kaggle.com/harrywang/housing#housing.csv\n",
        "\n",
        "# - Split the dataset to train and test (test_size=0.1, random_state=0)\n",
        "# - Tune both regressors (WRF and RandomForestRegressor) before evaluation on the training set.\n",
        "# - Evaluate both regressors on the test set.\n",
        "# - Report mean square error.\n"
      ],
      "execution_count": null,
      "outputs": []
    },
    {
      "cell_type": "markdown",
      "metadata": {
        "id": "hmgqRPKX08CA",
        "colab_type": "text"
      },
      "source": [
        "## **Classification - Fashion MNIST**"
      ]
    },
    {
      "cell_type": "code",
      "metadata": {
        "id": "M44I5PB9mRFT",
        "colab_type": "code",
        "colab": {
          "base_uri": "https://localhost:8080/",
          "height": 386,
          "referenced_widgets": [
            "36efedae22694b15ad2b0b2657c13716",
            "9e25d38d1eb042b191218ca70d0aea0a",
            "df2a3d53bed74043ae1523ba1a586b41",
            "293e00f0225c42fd8067068ff6e0b972",
            "1c9ac2f5f7fd4dc0833e2db6acd3f2a1",
            "75cacaba70154a9a8c6b27cd93d81804",
            "d80e50e981b84a7da3d112cf26edb9c6",
            "4b189f5cb7c648a5b4cc2c97246ba166",
            "f000355bfaab446e848cb5a514bf4da5",
            "6598c77c95a9498f94374ccd3c06313f",
            "385180ed9c0448eb928331ca628ffc2e",
            "3d6f8cbb6e364ab884df0c398c6c5467",
            "c8558e8a76fa406da302aba8e70cedb5",
            "5db9888083bf4cbf919dc53426035704",
            "0d0dbbff8fa84aafa52209571bfc0d49",
            "3d8188f6c244404e9ed70758e86cfe02",
            "263f836e74804e339c45170ac09e9c7d",
            "93301b7a01af409c91966ef3821b2ae0",
            "6496422b63344c0d8de3b7baf0b16b0f",
            "87b67e61a0b54d95b3221eb6bda7a8cf",
            "a173068f712d4be1977fe9e503edad65",
            "7ba23ab9a0e04665bfaecde31065237f",
            "d3cd8dd6c5ae462e93b85d01db6bc244",
            "12f764fa984f4b798c172c381efc0b0e",
            "eaaad6e3bddf45c382f7c8a69e9dddb4",
            "4b55d7668a5f430da4afde7845e1d26f",
            "edb7ab015590488eb8fe6e1ee8a864b4",
            "206355984568421caab5d5db47ecd0c2",
            "2ad1dc1ebb05425dae4692fcd0b2055b",
            "97c2e9654a384833a270e646f1573b06",
            "2c776312a3d340fe89442a3391c29ea5",
            "377c4575280e4011bfd5d0607641c4ad"
          ]
        },
        "outputId": "8cefa9b2-aa00-45e0-9fc8-1ceed4996a39"
      },
      "source": [
        "train_set = torchvision.datasets.FashionMNIST(\"./data\", download=True, transform=transforms.ToTensor())\n",
        "test_set = torchvision.datasets.FashionMNIST(\"./data\", download=True, train=False, transform=transforms.ToTensor())\n",
        "\n",
        "X_train, y_train = train_set.data[:7000].view(7000, -1), train_set.targets[:7000]\n",
        "X_test, y_test = test_set.data[:5000].view(5000, -1), test_set.targets[:5000]\n",
        "\n",
        "X_train, y_train = np.array(X_train), np.array(y_train)\n",
        "X_test, y_test = np.array(X_test), np.array(y_test)"
      ],
      "execution_count": null,
      "outputs": [
        {
          "output_type": "stream",
          "text": [
            "Downloading http://fashion-mnist.s3-website.eu-central-1.amazonaws.com/train-images-idx3-ubyte.gz to ./data/FashionMNIST/raw/train-images-idx3-ubyte.gz\n"
          ],
          "name": "stdout"
        },
        {
          "output_type": "display_data",
          "data": {
            "application/vnd.jupyter.widget-view+json": {
              "model_id": "36efedae22694b15ad2b0b2657c13716",
              "version_minor": 0,
              "version_major": 2
            },
            "text/plain": [
              "HBox(children=(FloatProgress(value=1.0, bar_style='info', max=1.0), HTML(value='')))"
            ]
          },
          "metadata": {
            "tags": []
          }
        },
        {
          "output_type": "stream",
          "text": [
            "Extracting ./data/FashionMNIST/raw/train-images-idx3-ubyte.gz to ./data/FashionMNIST/raw\n",
            "Downloading http://fashion-mnist.s3-website.eu-central-1.amazonaws.com/train-labels-idx1-ubyte.gz to ./data/FashionMNIST/raw/train-labels-idx1-ubyte.gz\n"
          ],
          "name": "stdout"
        },
        {
          "output_type": "display_data",
          "data": {
            "application/vnd.jupyter.widget-view+json": {
              "model_id": "f000355bfaab446e848cb5a514bf4da5",
              "version_minor": 0,
              "version_major": 2
            },
            "text/plain": [
              "HBox(children=(FloatProgress(value=1.0, bar_style='info', max=1.0), HTML(value='')))"
            ]
          },
          "metadata": {
            "tags": []
          }
        },
        {
          "output_type": "stream",
          "text": [
            "Extracting ./data/FashionMNIST/raw/train-labels-idx1-ubyte.gz to ./data/FashionMNIST/raw\n",
            "Downloading http://fashion-mnist.s3-website.eu-central-1.amazonaws.com/t10k-images-idx3-ubyte.gz to ./data/FashionMNIST/raw/t10k-images-idx3-ubyte.gz\n"
          ],
          "name": "stdout"
        },
        {
          "output_type": "display_data",
          "data": {
            "application/vnd.jupyter.widget-view+json": {
              "model_id": "263f836e74804e339c45170ac09e9c7d",
              "version_minor": 0,
              "version_major": 2
            },
            "text/plain": [
              "HBox(children=(FloatProgress(value=1.0, bar_style='info', max=1.0), HTML(value='')))"
            ]
          },
          "metadata": {
            "tags": []
          }
        },
        {
          "output_type": "stream",
          "text": [
            "Extracting ./data/FashionMNIST/raw/t10k-images-idx3-ubyte.gz to ./data/FashionMNIST/raw\n",
            "Downloading http://fashion-mnist.s3-website.eu-central-1.amazonaws.com/t10k-labels-idx1-ubyte.gz to ./data/FashionMNIST/raw/t10k-labels-idx1-ubyte.gz\n",
            "\n",
            "\n"
          ],
          "name": "stdout"
        },
        {
          "output_type": "display_data",
          "data": {
            "application/vnd.jupyter.widget-view+json": {
              "model_id": "eaaad6e3bddf45c382f7c8a69e9dddb4",
              "version_minor": 0,
              "version_major": 2
            },
            "text/plain": [
              "HBox(children=(FloatProgress(value=1.0, bar_style='info', max=1.0), HTML(value='')))"
            ]
          },
          "metadata": {
            "tags": []
          }
        },
        {
          "output_type": "stream",
          "text": [
            "Extracting ./data/FashionMNIST/raw/t10k-labels-idx1-ubyte.gz to ./data/FashionMNIST/raw\n",
            "Processing...\n",
            "Done!\n"
          ],
          "name": "stdout"
        },
        {
          "output_type": "stream",
          "text": [
            "/pytorch/torch/csrc/utils/tensor_numpy.cpp:141: UserWarning: The given NumPy array is not writeable, and PyTorch does not support non-writeable tensors. This means you can write to the underlying (supposedly non-writeable) NumPy array using the tensor. You may want to copy the array to protect its data or make it writeable before converting it to a tensor. This type of warning will be suppressed for the rest of this program.\n"
          ],
          "name": "stderr"
        }
      ]
    },
    {
      "cell_type": "markdown",
      "metadata": {
        "id": "HKjnVP8JtP26",
        "colab_type": "text"
      },
      "source": [
        "### Random Forest (RF) Classifier"
      ]
    },
    {
      "cell_type": "code",
      "metadata": {
        "colab_type": "code",
        "id": "HmMO_Dj4CIWF",
        "colab": {
          "base_uri": "https://localhost:8080/",
          "height": 88
        },
        "outputId": "c7154d89-d90b-4cb9-cf18-31017506c33c"
      },
      "source": [
        "rf_clf_params = {\"n_estimators\": [100, 200, 500, 1000], \"max_depth\": [5, 10, 15, 20], \"max_features\": [None, 1, 2]}\n",
        "\n",
        "rf_clf_best_params = tune(RandomForestClassifier(random_state=0), X_train, y_train, rf_clf_params, \"accuracy\")\n",
        "print(rf_clf_best_params)"
      ],
      "execution_count": null,
      "outputs": [
        {
          "output_type": "stream",
          "text": [
            "/usr/local/lib/python3.6/dist-packages/joblib/externals/loky/process_executor.py:691: UserWarning: A worker stopped while some jobs were given to the executor. This can be caused by a too short worker timeout or by a memory leak.\n",
            "  \"timeout or by a memory leak.\", UserWarning\n"
          ],
          "name": "stderr"
        },
        {
          "output_type": "stream",
          "text": [
            "{'max_depth': 20, 'max_features': None, 'n_estimators': 200}\n"
          ],
          "name": "stdout"
        }
      ]
    },
    {
      "cell_type": "code",
      "metadata": {
        "colab_type": "code",
        "id": "l8q0KqyLCJ9Y",
        "colab": {
          "base_uri": "https://localhost:8080/",
          "height": 153
        },
        "outputId": "bfcef9a8-b5a5-4b73-eac9-045a334234e6"
      },
      "source": [
        "rf_clf = RandomForestClassifier(n_estimators=rf_clf_best_params[\"n_estimators\"],\n",
        "                                max_depth=rf_clf_best_params[\"max_depth\"],\n",
        "                                max_features=rf_clf_best_params[\"max_features\"], random_state=0)\n",
        "\n",
        "rf_clf.fit(X_train, y_train)"
      ],
      "execution_count": null,
      "outputs": [
        {
          "output_type": "execute_result",
          "data": {
            "text/plain": [
              "RandomForestClassifier(bootstrap=True, ccp_alpha=0.0, class_weight=None,\n",
              "                       criterion='gini', max_depth=20, max_features=None,\n",
              "                       max_leaf_nodes=None, max_samples=None,\n",
              "                       min_impurity_decrease=0.0, min_impurity_split=None,\n",
              "                       min_samples_leaf=1, min_samples_split=2,\n",
              "                       min_weight_fraction_leaf=0.0, n_estimators=200,\n",
              "                       n_jobs=None, oob_score=False, random_state=0, verbose=0,\n",
              "                       warm_start=False)"
            ]
          },
          "metadata": {
            "tags": []
          },
          "execution_count": 6
        }
      ]
    },
    {
      "cell_type": "code",
      "metadata": {
        "colab_type": "code",
        "id": "QyXmeQ4sCMTm",
        "colab": {
          "base_uri": "https://localhost:8080/",
          "height": 34
        },
        "outputId": "332613f1-dff0-4140-f462-9573058ed68e"
      },
      "source": [
        "rf_clf_preds = rf_clf.predict(X_test)\n",
        "print(rf_clf_preds)"
      ],
      "execution_count": null,
      "outputs": [
        {
          "output_type": "stream",
          "text": [
            "[9 2 1 ... 9 6 7]\n"
          ],
          "name": "stdout"
        }
      ]
    },
    {
      "cell_type": "code",
      "metadata": {
        "colab_type": "code",
        "id": "qcHZZnKCCOKY",
        "colab": {
          "base_uri": "https://localhost:8080/",
          "height": 187
        },
        "outputId": "968253ff-a529-4b5d-cb79-541189d32d72"
      },
      "source": [
        "confusion_matrix(y_test, rf_clf_preds)"
      ],
      "execution_count": null,
      "outputs": [
        {
          "output_type": "execute_result",
          "data": {
            "text/plain": [
              "array([[387,   2,  14,  25,   2,   3,  67,   0,   7,   0],\n",
              "       [  2, 455,   1,  19,   1,   1,   2,   0,   0,   0],\n",
              "       [  6,   0, 384,   9,  79,   2,  37,   0,   4,   0],\n",
              "       [ 17,   2,  10, 428,  20,   1,  17,   0,   5,   0],\n",
              "       [  3,   0,  68,  27, 396,   2,  24,   0,   1,   0],\n",
              "       [  0,   0,   0,   0,   0, 449,   0,  27,   2,   7],\n",
              "       [ 68,   2,  68,  22,  55,   0, 256,   0,  11,   0],\n",
              "       [  0,   0,   0,   0,   0,  15,   0, 453,   3,  29],\n",
              "       [  0,   2,   3,   3,   3,   6,   6,   4, 497,   2],\n",
              "       [  0,   0,   1,   0,   0,   9,   2,  17,   1, 447]])"
            ]
          },
          "metadata": {
            "tags": []
          },
          "execution_count": 8
        }
      ]
    },
    {
      "cell_type": "code",
      "metadata": {
        "colab_type": "code",
        "id": "6e3q1x7gCRl8",
        "colab": {
          "base_uri": "https://localhost:8080/",
          "height": 34
        },
        "outputId": "cf029914-50cb-4999-e44f-86991288c122"
      },
      "source": [
        "print('Random Forest Classifier Accuracy: %.2f%%' % (accuracy_score(y_test, rf_clf_preds) * 100))"
      ],
      "execution_count": null,
      "outputs": [
        {
          "output_type": "stream",
          "text": [
            "Random Forest Classifier Accuracy: 83.04%\n"
          ],
          "name": "stdout"
        }
      ]
    },
    {
      "cell_type": "markdown",
      "metadata": {
        "id": "hiaf6lLetrYJ",
        "colab_type": "text"
      },
      "source": [
        "### Weighted Random Forest (WRF) Classifier"
      ]
    },
    {
      "cell_type": "code",
      "metadata": {
        "colab_type": "code",
        "id": "ycfAtsj3oVNZ",
        "colab": {}
      },
      "source": [
        "wrf_clf_params = {\"n_trees\": [100, 200, 500, 1000], \"max_depth\": [5, 10, 15, 20], \"n_features\": [None, 1, 2],\n",
        "                  \"weight_type\": [\"div\", \"sub\"]}\n",
        "\n",
        "wrf_clf_best_params = tune(WRF(type=\"cat\"), X_train, y_train, wrf_clf_params, \"accuracy\")"
      ],
      "execution_count": null,
      "outputs": []
    },
    {
      "cell_type": "code",
      "metadata": {
        "id": "PwSoySreHEKG",
        "colab_type": "code",
        "colab": {
          "base_uri": "https://localhost:8080/",
          "height": 34
        },
        "outputId": "2ff26bd3-487a-4ff8-9f66-d9f9639c098f"
      },
      "source": [
        "print(wrf_clf_best_params)"
      ],
      "execution_count": null,
      "outputs": [
        {
          "output_type": "stream",
          "text": [
            "{'max_depth': 20, 'n_features': None, 'n_trees': 1000, 'weight_type': 'sub'}\n"
          ],
          "name": "stdout"
        }
      ]
    },
    {
      "cell_type": "code",
      "metadata": {
        "colab_type": "code",
        "id": "Oj1zyDZoKMST",
        "colab": {}
      },
      "source": [
        "wrf_clf = WRF(n_trees=wrf_clf_best_params[\"n_trees\"], max_depth=wrf_clf_best_params[\"max_depth\"],\n",
        "              n_features=wrf_clf_best_params[\"n_features\"], type=\"cat\", weight_type=wrf_clf_best_params[\"weight_type\"])\n",
        "\n",
        "wrf_clf.fit(X_train, y_train)"
      ],
      "execution_count": null,
      "outputs": []
    },
    {
      "cell_type": "code",
      "metadata": {
        "colab_type": "code",
        "id": "yMMI0HpRKOQM",
        "colab": {
          "base_uri": "https://localhost:8080/",
          "height": 54
        },
        "outputId": "41f92d6a-6747-4be7-bb3b-ec814b6406ef"
      },
      "source": [
        "wrf_clf_preds = wrf_clf.predict(X_test)\n",
        "print(wrf_clf_preds)"
      ],
      "execution_count": null,
      "outputs": [
        {
          "output_type": "stream",
          "text": [
            "[9, 2, 1, 1, 6, 1, 2, 6, 5, 7, 4, 5, 5, 3, 4, 1, 2, 4, 8, 0, 2, 7, 7, 5, 1, 2, 4, 6, 9, 4, 8, 8, 3, 0, 8, 0, 5, 5, 7, 9, 6, 1, 6, 7, 6, 5, 2, 3, 2, 2, 4, 2, 5, 6, 2, 2, 8, 4, 8, 0, 7, 7, 8, 5, 1, 1, 3, 3, 7, 8, 7, 0, 0, 6, 4, 3, 1, 2, 8, 4, 1, 8, 5, 9, 5, 0, 3, 2, 0, 6, 5, 3, 6, 7, 1, 8, 0, 3, 2, 2, 3, 6, 7, 2, 7, 8, 5, 9, 9, 4, 2, 5, 7, 3, 5, 4, 8, 6, 7, 2, 0, 0, 9, 9, 3, 0, 6, 4, 1, 5, 4, 1, 9, 1, 8, 4, 2, 1, 2, 5, 1, 3, 0, 0, 1, 6, 1, 3, 6, 6, 4, 4, 1, 3, 5, 6, 4, 7, 9, 3, 7, 2, 3, 9, 0, 9, 6, 7, 4, 2, 6, 5, 0, 1, 2, 1, 3, 0, 9, 1, 0, 9, 3, 6, 7, 9, 9, 4, 4, 7, 1, 2, 1, 2, 3, 2, 8, 8, 6, 1, 1, 0, 2, 9, 2, 4, 0, 7, 9, 8, 4, 1, 8, 4, 1, 3, 0, 3, 7, 4, 8, 8, 2, 0, 7, 7, 6, 2, 7, 2, 7, 8, 9, 2, 9, 0, 5, 1, 4, 2, 5, 2, 9, 2, 2, 8, 6, 8, 2, 4, 9, 7, 0, 5, 5, 2, 8, 5, 6, 3, 0, 4, 8, 0, 0, 6, 3, 8, 9, 6, 1, 3, 0, 2, 3, 0, 8, 3, 7, 2, 0, 1, 2, 3, 0, 4, 3, 7, 5, 3, 7, 9, 5, 3, 5, 5, 1, 9, 8, 8, 3, 3, 4, 8, 0, 0, 4, 9, 5, 9, 1, 6, 4, 2, 5, 6, 7, 1, 6, 4, 5, 2, 6, 5, 4, 2, 7, 7, 7, 3, 3, 5, 6, 7, 1, 3, 7, 6, 2, 3, 4, 0, 3, 1, 0, 1, 9, 4, 9, 9, 1, 7, 8, 3, 3, 0, 2, 4, 8, 6, 1, 6, 2, 4, 2, 7, 3, 2, 2, 5, 6, 7, 9, 4, 6, 9, 3, 9, 1, 2, 5, 6, 6, 3, 5, 8, 1, 0, 2, 2, 6, 4, 9, 5, 5, 0, 6, 6, 1, 2, 0, 9, 7, 0, 4, 4, 3, 0, 4, 1, 0, 6, 7, 0, 9, 4, 2, 3, 7, 2, 5, 3, 8, 5, 8, 4, 4, 8, 9, 8, 6, 2, 6, 4, 8, 4, 1, 6, 1, 3, 0, 7, 8, 5, 4, 9, 3, 1, 9, 5, 3, 3, 0, 1, 2, 2, 9, 2, 0, 8, 0, 4, 2, 0, 0, 3, 3, 8, 2, 8, 9, 4, 0, 7, 0, 2, 2, 5, 2, 9, 7, 9, 3, 7, 5, 9, 8, 1, 6, 3, 2, 4, 8, 9, 7, 9, 1, 2, 7, 3, 6, 0, 7, 9, 1, 8, 2, 2, 2, 2, 2, 4, 6, 1, 9, 8, 5, 1, 9, 1, 2, 8, 3, 8, 9, 2, 2, 2, 8, 6, 2, 6, 5, 8, 8, 5, 3, 9, 4, 3, 4, 2, 7, 1, 0, 1, 2, 6, 2, 9, 6, 1, 5, 1, 1, 1, 9, 3, 2, 5, 1, 0, 4, 0, 4, 0, 0, 5, 8, 3, 3, 4, 0, 7, 7, 8, 9, 0, 4, 8, 7, 0, 7, 9, 0, 2, 6, 0, 5, 0, 1, 1, 5, 9, 4, 6, 5, 7, 8, 1, 2, 9, 7, 7, 1, 0, 9, 6, 6, 9, 0, 7, 6, 8, 2, 7, 3, 2, 3, 8, 2, 2, 6, 5, 3, 0, 7, 8, 6, 2, 7, 4, 6, 6, 4, 6, 0, 6, 4, 6, 7, 5, 8, 4, 9, 1, 0, 5, 4, 4, 4, 0, 0, 4, 5, 6, 0, 6, 8, 6, 1, 2, 1, 1, 2, 4, 3, 8, 2, 6, 6, 5, 0, 4, 3, 8, 5, 0, 8, 4, 9, 2, 8, 9, 6, 4, 2, 9, 6, 6, 1, 0, 9, 5, 3, 4, 6, 8, 3, 6, 8, 3, 3, 0, 9, 9, 9, 4, 5, 9, 1, 3, 7, 3, 0, 2, 4, 7, 1, 8, 0, 8, 7, 2, 6, 4, 4, 4, 1, 5, 9, 0, 0, 1, 6, 5, 0, 6, 3, 3, 3, 8, 1, 1, 8, 5, 7, 7, 8, 7, 2, 6, 7, 6, 8, 0, 9, 7, 2, 1, 3, 2, 6, 6, 0, 6, 3, 6, 8, 4, 0, 8, 9, 2, 4, 5, 9, 1, 8, 4, 9, 2, 3, 7, 9, 5, 8, 3, 7, 7, 1, 1, 1, 4, 9, 5, 3, 8, 4, 2, 9, 2, 8, 3, 2, 2, 4, 7, 1, 4, 9, 4, 5, 8, 5, 4, 7, 2, 8, 5, 9, 3, 3, 4, 5, 1, 7, 3, 7, 2, 4, 5, 8, 3, 9, 1, 2, 0, 1, 9, 8, 4, 7, 1, 3, 7, 5, 9, 9, 1, 8, 4, 5, 5, 1, 9, 8, 1, 6, 0, 2, 1, 7, 1, 1, 5, 7, 1, 5, 2, 2, 3, 3, 1, 1, 4, 9, 2, 3, 7, 7, 0, 8, 9, 9, 6, 1, 3, 4, 0, 3, 1, 9, 4, 3, 5, 5, 1, 5, 7, 8, 7, 9, 3, 6, 2, 0, 4, 0, 6, 0, 6, 5, 5, 1, 2, 0, 9, 3, 7, 8, 4, 8, 6, 6, 7, 0, 7, 4, 8, 8, 3, 4, 4, 3, 4, 9, 6, 2, 4, 9, 1, 0, 1, 7, 5, 5, 4, 0, 2, 1, 0, 5, 4, 0, 0, 6, 7, 5, 0, 6, 5, 9, 4, 8, 2, 6, 4, 0, 2, 9, 3, 7, 7, 1, 4, 4, 0, 5, 0, 7, 9, 8, 8, 2, 6, 2, 4, 6, 6, 3, 2, 3, 5, 2, 9, 3, 4, 7, 7, 6, 3, 7, 5, 2, 4, 5, 9, 0, 3, 7, 5, 1, 9, 8, 8, 9, 9, 2, 7, 2, 2, 3, 8, 7, 6, 6, 5, 4, 1, 6, 1, 4, 9, 3, 1, 6, 5, 0, 7, 7, 5, 2, 3, 1, 9, 4, 3, 6, 0, 3, 5, 0, 2, 7, 4, 0, 3, 4, 9, 0, 2, 1, 1, 4, 4, 6, 5, 9, 0, 1, 4, 5, 1, 4, 2, 8, 4, 7, 5, 3, 8, 1, 1, 9, 0, 1, 3, 3, 7, 5, 1, 5, 7, 6, 9, 6, 3, 9, 8, 4, 6, 3, 8, 4, 5, 5, 6, 7, 1, 5, 3, 5, 4, 8, 6, 4, 1, 1, 7, 9, 2, 8, 7, 4, 8, 8, 2, 2, 3, 6, 4, 4, 9, 6, 8, 4, 5, 9, 6, 3, 9, 4, 9, 8, 7, 4, 6, 2, 5, 3, 5, 3, 7, 2, 9, 3, 7, 0, 9, 3, 8, 4, 4, 9, 2, 2, 6, 2, 0, 7, 8, 4, 2, 4, 5, 5, 0, 4, 5, 5, 8, 1, 6, 7, 4, 6, 9, 6, 8, 7, 2, 0, 1, 2, 7, 7, 2, 9, 8, 5, 1, 1, 0, 2, 0, 8, 6, 1, 9, 0, 5, 5, 4, 0, 7, 0, 2, 0, 1, 3, 1, 3, 6, 9, 2, 4, 9, 5, 2, 9, 4, 3, 4, 2, 0, 6, 5, 2, 2, 5, 6, 1, 4, 2, 5, 4, 8, 8, 6, 2, 2, 0, 4, 4, 6, 8, 3, 8, 2, 0, 6, 3, 8, 8, 4, 5, 2, 2, 3, 0, 1, 9, 0, 9, 1, 9, 3, 5, 2, 4, 7, 3, 8, 9, 3, 1, 0, 7, 5, 5, 5, 5, 6, 6, 0, 3, 2, 4, 4, 5, 7, 1, 3, 4, 0, 4, 7, 1, 6, 9, 3, 4, 8, 8, 2, 8, 9, 2, 1, 6, 5, 8, 5, 8, 5, 6, 8, 5, 2, 6, 8, 9, 8, 3, 3, 6, 8, 8, 3, 6, 9, 4, 2, 8, 1, 3, 6, 1, 9, 4, 1, 6, 2, 7, 9, 6, 6, 0, 4, 4, 6, 4, 5, 6, 2, 8, 3, 7, 4, 2, 0, 0, 7, 4, 8, 6, 2, 3, 0, 2, 1, 7, 7, 5, 4, 7, 4, 6, 7, 3, 3, 1, 3, 3, 6, 0, 1, 7, 6, 4, 7, 1, 0, 6, 5, 8, 4, 2, 7, 9, 5, 8, 7, 9, 5, 1, 4, 9, 5, 5, 3, 9, 9, 1, 6, 7, 0, 0, 1, 7, 4, 7, 1, 1, 5, 5, 6, 4, 5, 9, 5, 5, 2, 3, 9, 3, 8, 5, 4, 6, 4, 0, 5, 7, 2, 5, 2, 0, 4, 4, 7, 0, 0, 5, 1, 7, 2, 1, 6, 8, 7, 8, 7, 1, 6, 0, 2, 9, 7, 5, 6, 1, 6, 7, 3, 2, 4, 9, 3, 4, 4, 4, 3, 0, 6, 2, 3, 4, 1, 3, 7, 4, 5, 3, 9, 1, 1, 8, 2, 9, 5, 0, 7, 4, 6, 7, 1, 1, 5, 3, 7, 7, 8, 3, 1, 9, 6, 6, 1, 1, 3, 5, 0, 7, 1, 9, 8, 2, 8, 7, 0, 1, 5, 5, 6, 3, 7, 2, 8, 1, 8, 0, 7, 9, 8, 5, 5, 2, 2, 4, 6, 4, 5, 8, 3, 8, 7, 5, 7, 3, 7, 0, 7, 0, 2, 2, 5, 3, 5, 1, 1, 7, 7, 6, 3, 4, 4, 2, 8, 6, 2, 3, 2, 9, 9, 2, 8, 2, 2, 7, 8, 6, 7, 7, 1, 2, 9, 4, 7, 3, 4, 3, 3, 1, 8, 8, 5, 1, 8, 0, 3, 6, 3, 2, 0, 2, 7, 3, 3, 8, 6, 9, 7, 3, 1, 7, 5, 8, 8, 4, 0, 7, 6, 4, 8, 5, 7, 0, 6, 2, 7, 7, 3, 9, 4, 5, 9, 7, 1, 7, 4, 2, 5, 1, 4, 5, 4, 5, 0, 4, 2, 1, 6, 4, 8, 4, 5, 9, 4, 1, 1, 7, 2, 2, 5, 0, 3, 9, 7, 5, 3, 8, 8, 8, 9, 1, 1, 6, 3, 1, 4, 3, 4, 9, 9, 0, 0, 2, 9, 4, 9, 2, 4, 6, 8, 9, 4, 6, 4, 8, 0, 7, 2, 3, 6, 4, 5, 6, 1, 9, 6, 4, 2, 8, 9, 6, 8, 3, 6, 6, 6, 0, 4, 6, 6, 6, 5, 0, 6, 7, 8, 7, 4, 5, 6, 6, 5, 2, 2, 2, 9, 5, 2, 6, 7, 0, 1, 7, 5, 5, 0, 7, 7, 5, 0, 5, 0, 8, 4, 7, 9, 8, 2, 4, 7, 1, 6, 7, 7, 9, 8, 4, 9, 5, 7, 6, 5, 5, 5, 1, 3, 0, 6, 9, 9, 8, 3, 7, 0, 3, 2, 9, 3, 4, 1, 9, 9, 1, 9, 7, 2, 7, 6, 9, 7, 0, 7, 5, 5, 4, 0, 7, 3, 3, 2, 0, 2, 9, 9, 0, 0, 6, 8, 4, 8, 5, 4, 6, 1, 8, 2, 8, 7, 0, 4, 6, 3, 0, 0, 1, 6, 8, 1, 9, 0, 7, 6, 7, 7, 1, 5, 8, 7, 2, 9, 9, 1, 2, 2, 1, 1, 1, 8, 8, 1, 3, 7, 5, 2, 6, 8, 4, 8, 9, 2, 1, 3, 1, 9, 8, 1, 1, 1, 8, 0, 9, 5, 7, 6, 1, 4, 2, 1, 1, 7, 9, 6, 2, 6, 3, 6, 4, 8, 1, 9, 2, 2, 4, 2, 4, 8, 7, 1, 8, 5, 5, 7, 5, 2, 6, 2, 9, 0, 6, 3, 5, 5, 0, 2, 1, 0, 3, 7, 9, 3, 7, 2, 5, 7, 9, 8, 9, 1, 4, 8, 3, 2, 0, 0, 6, 8, 3, 2, 6, 3, 6, 0, 8, 8, 3, 2, 9, 3, 2, 0, 8, 5, 7, 0, 3, 1, 1, 9, 7, 1, 3, 3, 4, 4, 8, 4, 1, 3, 5, 8, 0, 7, 5, 0, 6, 7, 3, 3, 2, 4, 2, 5, 5, 4, 4, 3, 9, 1, 1, 7, 3, 8, 7, 2, 2, 9, 3, 9, 9, 0, 1, 7, 1, 4, 8, 1, 2, 9, 3, 4, 0, 0, 7, 6, 9, 9, 5, 5, 7, 6, 9, 3, 3, 6, 9, 8, 3, 2, 2, 3, 9, 4, 3, 2, 7, 3, 0, 0, 8, 1, 8, 7, 4, 6, 5, 2, 3, 7, 1, 9, 6, 9, 1, 6, 2, 8, 8, 7, 7, 5, 7, 2, 6, 2, 9, 5, 8, 5, 0, 0, 6, 4, 9, 4, 6, 3, 1, 9, 3, 1, 2, 2, 0, 3, 9, 5, 7, 4, 4, 4, 1, 2, 3, 5, 4, 0, 9, 1, 5, 9, 0, 4, 6, 4, 0, 1, 7, 7, 2, 4, 7, 7, 3, 0, 4, 3, 2, 7, 8, 7, 2, 8, 3, 8, 7, 2, 0, 2, 7, 0, 9, 9, 3, 3, 5, 9, 3, 1, 0, 3, 3, 5, 7, 7, 9, 6, 3, 5, 9, 8, 7, 9, 3, 6, 6, 6, 9, 7, 7, 2, 3, 7, 3, 1, 1, 9, 4, 3, 9, 5, 5, 7, 2, 3, 9, 0, 2, 1, 9, 7, 1, 5, 0, 9, 5, 0, 3, 5, 0, 3, 3, 7, 4, 2, 6, 8, 5, 9, 2, 1, 0, 5, 5, 8, 5, 3, 7, 2, 6, 6, 9, 0, 0, 3, 9, 1, 4, 3, 1, 8, 3, 8, 5, 1, 1, 2, 9, 4, 0, 5, 6, 8, 0, 2, 9, 8, 4, 4, 8, 3, 8, 0, 4, 0, 0, 4, 8, 5, 6, 9, 0, 7, 5, 8, 0, 9, 1, 2, 7, 4, 1, 6, 0, 6, 4, 5, 0, 2, 8, 5, 5, 4, 0, 6, 7, 3, 3, 1, 9, 8, 7, 7, 2, 6, 4, 8, 3, 2, 8, 5, 2, 8, 3, 3, 1, 4, 6, 0, 4, 9, 6, 4, 1, 9, 9, 8, 1, 8, 8, 3, 3, 0, 8, 5, 9, 2, 4, 8, 7, 6, 3, 0, 8, 4, 5, 7, 5, 0, 7, 9, 1, 6, 4, 8, 9, 3, 5, 8, 0, 4, 4, 7, 8, 9, 1, 5, 0, 5, 5, 3, 1, 1, 8, 8, 3, 0, 7, 0, 1, 8, 1, 6, 4, 7, 8, 9, 8, 8, 4, 9, 1, 8, 4, 2, 7, 7, 0, 5, 1, 2, 0, 6, 2, 1, 0, 2, 3, 5, 1, 2, 3, 3, 4, 4, 5, 0, 9, 8, 3, 3, 1, 0, 2, 1, 2, 1, 6, 8, 2, 9, 0, 9, 9, 5, 3, 6, 0, 5, 0, 3, 9, 5, 3, 6, 1, 9, 2, 1, 6, 4, 5, 4, 1, 2, 8, 5, 9, 4, 5, 3, 4, 8, 3, 0, 2, 8, 9, 0, 5, 0, 2, 5, 9, 3, 8, 6, 8, 5, 9, 2, 3, 1, 3, 3, 2, 2, 7, 2, 1, 2, 6, 4, 3, 2, 8, 5, 0, 8, 5, 2, 7, 9, 1, 5, 9, 8, 6, 9, 0, 9, 3, 7, 5, 7, 9, 4, 0, 7, 1, 5, 5, 9, 5, 4, 4, 2, 4, 5, 9, 7, 4, 2, 6, 9, 9, 6, 4, 1, 3, 7, 1, 8, 7, 7, 1, 8, 9, 3, 7, 9, 7, 1, 7, 1, 4, 2, 2, 4, 5, 2, 8, 9, 6, 8, 6, 0, 7, 7, 5, 0, 1, 9, 2, 0, 6, 7, 4, 2, 6, 7, 1, 6, 5, 8, 7, 2, 8, 6, 3, 6, 3, 7, 3, 8, 7, 4, 1, 7, 8, 2, 4, 6, 4, 6, 1, 2, 6, 7, 2, 9, 2, 5, 3, 3, 3, 8, 8, 2, 0, 7, 6, 4, 0, 4, 1, 3, 8, 1, 7, 7, 2, 6, 3, 8, 2, 7, 2, 2, 0, 6, 2, 7, 2, 0, 3, 0, 3, 0, 9, 7, 3, 5, 4, 9, 4, 2, 5, 0, 0, 8, 4, 0, 6, 4, 0, 4, 1, 6, 4, 2, 7, 1, 0, 2, 3, 1, 1, 5, 6, 3, 8, 3, 3, 1, 8, 2, 9, 8, 8, 4, 7, 5, 4, 7, 3, 9, 1, 3, 5, 3, 7, 3, 1, 1, 8, 4, 2, 0, 5, 9, 6, 3, 8, 1, 6, 4, 6, 6, 2, 8, 6, 4, 2, 0, 9, 2, 7, 9, 5, 7, 2, 1, 5, 8, 8, 2, 2, 4, 6, 3, 1, 0, 4, 2, 6, 9, 8, 4, 0, 7, 4, 3, 9, 7, 1, 1, 9, 5, 1, 9, 2, 4, 2, 1, 8, 3, 5, 1, 3, 0, 7, 3, 5, 8, 1, 4, 2, 3, 6, 8, 8, 8, 3, 8, 1, 8, 9, 3, 0, 6, 0, 2, 9, 7, 3, 7, 0, 1, 3, 5, 9, 6, 0, 5, 6, 5, 8, 5, 3, 6, 2, 8, 6, 0, 9, 3, 0, 5, 8, 1, 1, 2, 0, 6, 6, 8, 8, 6, 3, 3, 9, 7, 4, 3, 3, 1, 8, 1, 5, 4, 0, 0, 7, 9, 3, 2, 5, 1, 7, 4, 1, 6, 2, 6, 6, 7, 2, 4, 9, 3, 2, 5, 6, 8, 3, 2, 2, 7, 2, 2, 1, 1, 0, 3, 5, 7, 2, 6, 4, 1, 8, 8, 6, 6, 2, 4, 2, 7, 6, 0, 9, 6, 0, 6, 6, 4, 0, 4, 9, 8, 1, 6, 3, 4, 6, 9, 4, 3, 5, 1, 2, 6, 0, 1, 1, 0, 2, 6, 9, 9, 6, 1, 2, 4, 6, 7, 4, 1, 1, 9, 7, 8, 7, 2, 5, 3, 7, 1, 0, 9, 4, 1, 6, 2, 2, 5, 8, 7, 2, 5, 8, 6, 0, 9, 0, 8, 1, 3, 8, 2, 8, 2, 0, 2, 3, 8, 7, 8, 2, 2, 6, 6, 0, 4, 5, 4, 4, 3, 1, 9, 7, 3, 4, 3, 1, 4, 2, 7, 5, 1, 8, 1, 1, 7, 9, 8, 7, 2, 7, 9, 7, 2, 2, 6, 4, 3, 3, 9, 1, 1, 4, 8, 0, 9, 5, 5, 2, 8, 8, 3, 8, 3, 6, 8, 6, 6, 5, 9, 2, 1, 8, 2, 2, 8, 3, 3, 9, 1, 3, 0, 1, 8, 4, 1, 5, 8, 1, 5, 8, 0, 7, 9, 5, 5, 9, 1, 5, 3, 6, 7, 8, 8, 5, 1, 0, 2, 6, 4, 3, 7, 7, 9, 7, 2, 5, 8, 5, 8, 5, 3, 8, 9, 7, 2, 0, 6, 8, 3, 0, 7, 4, 7, 6, 8, 2, 7, 6, 6, 4, 0, 6, 7, 8, 1, 3, 8, 1, 7, 3, 6, 1, 1, 6, 6, 9, 8, 2, 8, 0, 7, 7, 1, 3, 6, 3, 0, 7, 8, 7, 6, 5, 2, 6, 7, 5, 7, 8, 9, 7, 3, 2, 4, 8, 3, 9, 5, 7, 4, 8, 2, 7, 3, 8, 5, 1, 8, 9, 2, 2, 1, 4, 2, 7, 2, 0, 2, 4, 8, 9, 7, 9, 2, 6, 8, 4, 0, 8, 6, 3, 3, 1, 5, 2, 7, 5, 3, 8, 3, 2, 3, 5, 1, 1, 0, 7, 0, 8, 8, 7, 5, 2, 9, 5, 5, 3, 0, 7, 1, 4, 6, 0, 9, 9, 0, 3, 8, 0, 5, 5, 8, 8, 2, 9, 6, 6, 2, 8, 1, 6, 4, 2, 0, 7, 5, 8, 7, 7, 5, 5, 3, 5, 6, 3, 2, 0, 3, 2, 4, 0, 4, 9, 4, 5, 2, 3, 1, 4, 5, 9, 6, 5, 0, 2, 5, 0, 4, 2, 6, 8, 7, 2, 7, 2, 3, 4, 5, 1, 6, 3, 4, 2, 4, 6, 9, 9, 6, 8, 3, 6, 0, 0, 1, 9, 3, 9, 3, 8, 2, 9, 4, 7, 9, 1, 5, 8, 1, 0, 6, 2, 2, 8, 0, 3, 4, 0, 0, 6, 5, 3, 1, 6, 7, 4, 7, 3, 0, 6, 5, 6, 8, 8, 6, 1, 3, 8, 9, 2, 5, 8, 9, 0, 7, 2, 7, 1, 5, 5, 8, 3, 2, 8, 5, 9, 9, 2, 0, 6, 7, 1, 9, 8, 8, 7, 2, 0, 9, 7, 9, 6, 9, 2, 1, 4, 7, 4, 5, 2, 2, 6, 9, 6, 7, 1, 9, 7, 6, 5, 6, 8, 4, 9, 6, 9, 5, 7, 5, 1, 3, 3, 4, 6, 9, 7, 3, 5, 5, 8, 7, 7, 4, 4, 5, 5, 3, 4, 8, 3, 0, 8, 2, 3, 3, 3, 7, 4, 6, 9, 1, 2, 8, 1, 4, 7, 8, 2, 4, 7, 4, 0, 2, 2, 3, 2, 3, 0, 5, 2, 3, 2, 8, 5, 0, 9, 4, 6, 4, 8, 3, 5, 1, 4, 9, 1, 8, 9, 0, 7, 4, 8, 6, 2, 9, 0, 3, 5, 6, 5, 1, 7, 9, 6, 6, 5, 3, 0, 4, 6, 1, 0, 9, 9, 7, 8, 2, 0, 9, 7, 7, 5, 8, 8, 7, 5, 3, 5, 5, 6, 8, 9, 7, 2, 1, 4, 5, 1, 3, 6, 3, 4, 3, 9, 4, 7, 7, 6, 5, 0, 8, 8, 2, 8, 5, 4, 3, 7, 3, 3, 6, 6, 5, 2, 0, 7, 7, 7, 1, 5, 0, 1, 8, 5, 2, 2, 8, 7, 7, 2, 7, 1, 0, 9, 5, 3, 9, 3, 5, 0, 7, 4, 2, 0, 1, 2, 5, 9, 3, 2, 8, 5, 7, 3, 1, 4, 0, 8, 1, 8, 5, 6, 9, 3, 3, 2, 8, 4, 2, 0, 0, 4, 2, 3, 4, 5, 9, 3, 1, 9, 4, 7, 0, 4, 1, 0, 0, 9, 7, 0, 7, 8, 0, 5, 6, 4, 1, 8, 9, 7, 4, 9, 5, 3, 7, 2, 4, 1, 9, 7, 8, 1, 3, 9, 3, 4, 7, 8, 6, 5, 6, 7, 9, 9, 7, 0, 4, 2, 3, 4, 0, 7, 5, 3, 9, 2, 8, 8, 3, 0, 4, 1, 9, 3, 3, 5, 1, 5, 5, 9, 3, 8, 5, 5, 9, 5, 0, 6, 9, 3, 5, 4, 2, 6, 9, 4, 8, 1, 9, 2, 6, 2, 4, 8, 8, 7, 7, 3, 9, 3, 9, 0, 8, 2, 6, 9, 0, 3, 2, 5, 9, 6, 6, 6, 4, 1, 3, 1, 8, 7, 8, 8, 9, 7, 6, 5, 7, 3, 6, 0, 2, 0, 3, 4, 8, 8, 8, 0, 2, 3, 2, 8, 6, 1, 2, 1, 1, 6, 3, 2, 2, 8, 0, 3, 2, 1, 3, 4, 7, 0, 4, 7, 9, 9, 2, 7, 0, 9, 9, 8, 4, 8, 3, 4, 0, 9, 6, 2, 4, 3, 8, 4, 0, 6, 9, 0, 4, 7, 3, 7, 8, 8, 2, 2, 8, 0, 0, 1, 5, 9, 9, 8, 7, 1, 0, 3, 6, 3, 3, 9, 3, 9, 9, 1, 5, 9, 4, 1, 7, 0, 1, 0, 5, 3, 8, 8, 4, 1, 7, 0, 5, 0, 4, 1, 7, 1, 7, 9, 8, 3, 9, 2, 6, 7, 3, 9, 8, 8, 4, 4, 5, 7, 3, 6, 0, 5, 5, 3, 6, 8, 5, 4, 8, 5, 6, 9, 1, 3, 1, 2, 5, 9, 3, 9, 0, 3, 5, 6, 1, 5, 8, 5, 6, 6, 9, 1, 9, 1, 7, 1, 8, 0, 3, 4, 6, 8, 6, 3, 3, 8, 8, 0, 3, 4, 8, 1, 1, 3, 3, 4, 4, 1, 8, 3, 4, 6, 4, 4, 2, 3, 9, 2, 3, 2, 4, 5, 7, 1, 6, 1, 8, 6, 3, 8, 5, 1, 6, 5, 2, 8, 1, 7, 1, 6, 4, 9, 4, 2, 1, 5, 4, 3, 5, 8, 5, 7, 5, 2, 7, 5, 3, 4, 2, 0, 6, 4, 9, 9, 5, 8, 0, 2, 4, 1, 3, 7, 9, 3, 0, 9, 8, 5, 3, 0, 7, 1, 9, 7, 8, 2, 0, 9, 9, 1, 2, 0, 3, 2, 4, 5, 1, 0, 2, 8, 3, 4, 8, 4, 4, 0, 0, 3, 6, 7, 6, 4, 1, 7, 3, 0, 7, 9, 9, 1, 9, 5, 9, 1, 4, 0, 1, 4, 8, 3, 5, 9, 8, 0, 4, 6, 7, 4, 9, 5, 6, 8, 7, 8, 2, 4, 9, 3, 5, 5, 9, 9, 4, 4, 4, 6, 6, 2, 8, 7, 6, 6, 7, 5, 2, 5, 0, 3, 2, 4, 8, 6, 0, 2, 7, 0, 5, 6, 6, 6, 8, 6, 0, 2, 0, 2, 5, 5, 8, 0, 7, 0, 8, 9, 0, 6, 1, 4, 5, 1, 3, 4, 9, 6, 4, 8, 9, 1, 4, 0, 1, 6, 8, 6, 5, 3, 6, 2, 6, 2, 3, 4, 5, 2, 3, 2, 0, 8, 5, 4, 0, 1, 0, 4, 2, 6, 7, 9, 6, 4, 3, 3, 6, 8, 5, 4, 4, 5, 3, 3, 5, 6, 5, 1, 5, 5, 1, 9, 5, 4, 3, 8, 8, 6, 9, 0, 0, 6, 3, 2, 1, 8, 3, 4, 2, 1, 2, 0, 8, 6, 8, 5, 1, 5, 0, 2, 0, 3, 9, 8, 4, 8, 1, 0, 2, 6, 2, 3, 3, 7, 5, 3, 6, 2, 0, 8, 2, 2, 1, 8, 2, 8, 2, 9, 2, 4, 8, 5, 6, 7, 3, 2, 2, 3, 5, 6, 8, 5, 4, 1, 5, 2, 8, 2, 9, 3, 6, 3, 6, 4, 2, 7, 7, 9, 0, 2, 9, 6, 0, 5, 8, 7, 7, 0, 7, 7, 0, 7, 7, 6, 9, 7, 4, 2, 2, 3, 8, 0, 1, 9, 8, 6, 2, 2, 8, 3, 8, 0, 7, 6, 3, 3, 8, 1, 3, 8, 7, 3, 0, 3, 2, 8, 8, 9, 1, 3, 2, 1, 4, 8, 6, 2, 4, 7, 3, 9, 2, 9, 0, 4, 2, 5, 7, 0, 8, 1, 7, 5, 4, 9, 5, 7, 3, 6, 0, 9, 8, 9, 3, 7, 7, 4, 7, 5, 8, 5, 5, 4, 6, 2, 3, 8, 9, 7, 1, 3, 4, 2, 9, 7, 1, 0, 2, 0, 0, 5, 5, 2, 5, 2, 1, 9, 4, 5, 9, 1, 4, 3, 1, 5, 5, 5, 4, 8, 1, 5, 5, 7, 7, 9, 4, 1, 1, 1, 2, 6, 6, 9, 3, 2, 4, 6, 8, 8, 5, 4, 9, 6, 2, 8, 4, 8, 6, 3, 6, 1, 6, 3, 3, 8, 4, 9, 9, 0, 7, 9, 5, 3, 1, 7, 4, 8, 4, 9, 0, 1, 0, 0, 5, 8, 1, 9, 3, 6, 8, 1, 8, 4, 2, 5, 6, 9, 6, 1, 4, 6, 7, 9, 0, 1, 3, 9, 5, 1, 2, 1, 1, 4, 8, 6, 9, 5, 4, 4, 3, 7, 7, 7, 8, 3, 5, 3, 9, 2, 4, 0, 7, 2, 8, 7, 9, 0, 3, 2, 9, 0, 4, 0, 6, 7, 9, 6, 1, 1, 2, 0, 8, 8, 7, 4, 2, 7, 5, 7, 6, 1, 8, 1, 4, 9, 8, 9, 3, 1, 0, 6, 0, 3, 0, 2, 6, 1, 5, 7, 1, 6, 2, 5, 3, 4, 1, 7, 4, 7, 0, 2, 8, 8, 1, 6, 9, 9, 5, 3, 4, 9, 3, 9, 8, 5, 3, 8, 4, 7, 1, 4, 1, 9, 4, 8, 1, 2, 4, 8, 1, 1, 5, 8, 8, 1, 2, 6, 9, 0, 9, 5, 0, 5, 0, 6, 5, 2, 8, 3, 8, 0, 2, 9, 5, 1, 5, 3, 2, 6, 5, 3, 6, 6, 0, 7, 4, 0, 2, 1, 9, 5, 1, 7, 5, 5, 5, 9, 6, 8, 4, 6, 6, 4, 4, 2, 3, 1, 2, 2, 8, 4, 9, 0, 5, 8, 1, 3, 8, 3, 2, 1, 8, 4, 6, 9, 3, 6, 9, 7, 4, 6, 2, 2, 8, 9, 2, 6, 4, 7, 9, 9, 7, 3, 6, 9, 6, 7, 3, 6, 2, 0, 9, 6, 3, 3, 1, 9, 5, 8, 6, 3, 5, 0, 3, 2, 5, 2, 3, 5, 6, 7, 7, 6, 6, 9, 5, 4, 4, 4, 5, 3, 0, 0, 1, 3, 0, 5, 4, 8, 5, 7, 3, 6, 8, 3, 5, 4, 6, 9, 8, 9, 9, 8, 1, 9, 5, 6, 1, 5, 4, 3, 3, 4, 4, 2, 3, 0, 7, 8, 0, 9, 6, 3, 0, 3, 4, 7, 4, 5, 7, 3, 7, 8, 6, 6, 2, 4, 3, 1, 0, 5, 5, 2, 6, 4, 1, 1, 4, 7, 2, 3, 5, 5, 0, 4, 4, 3, 8, 9, 9, 2, 0, 9, 0, 3, 7, 3, 1, 4, 5, 0, 1, 8, 5, 8, 4, 0, 7, 8, 9, 2, 4, 6, 3, 6, 6, 4, 7, 9, 1, 9, 7, 4, 9, 3, 3, 2, 4, 5, 6, 6, 5, 8, 0, 4, 6, 9, 4, 7, 8, 0, 0, 2, 7, 7, 5, 9, 7, 7, 3, 8, 7, 5, 9, 9, 8, 2, 1, 0, 8, 0, 6, 3, 7, 9, 6, 6, 5, 2, 1, 4, 1, 1, 9, 6, 5, 5, 4, 9, 7, 9, 0, 7, 4, 0, 6, 5, 7, 8, 4, 8, 8, 9, 6, 9, 3, 9, 6, 9, 7, 3, 9, 9, 3, 2, 6, 2, 8, 7, 9, 1, 0, 6, 4, 1, 0, 3, 8, 0, 8, 4, 4, 6, 3, 7, 9, 7, 8, 5, 6, 3, 2, 1, 8, 3, 2, 7, 4, 2, 3, 0, 8, 3, 6, 4, 9, 0, 9, 9, 0, 1, 8, 1, 0, 3, 8, 4, 8, 5, 1, 3, 3, 1, 9, 3, 5, 0, 4, 4, 6, 1, 5, 3, 2, 8, 5, 7, 8, 0, 1, 1, 0, 6, 2, 5, 9, 0, 7]\n"
          ],
          "name": "stdout"
        }
      ]
    },
    {
      "cell_type": "code",
      "metadata": {
        "colab_type": "code",
        "id": "vgPPRdhxKRYs",
        "colab": {
          "base_uri": "https://localhost:8080/",
          "height": 187
        },
        "outputId": "8d004287-3add-4d07-dda3-6a93f4503ff6"
      },
      "source": [
        "confusion_matrix(y_test, wrf_clf_preds)"
      ],
      "execution_count": null,
      "outputs": [
        {
          "output_type": "execute_result",
          "data": {
            "text/plain": [
              "array([[338,   2,  12,  40,   8,   2,  93,   0,  12,   0],\n",
              "       [  2, 450,   2,  21,   1,   0,   3,   0,   1,   1],\n",
              "       [ 15,   0, 334,  16,  81,   3,  61,   0,  11,   0],\n",
              "       [ 18,  13,  11, 400,  23,   3,  28,   0,   4,   0],\n",
              "       [  5,   8,  98,  27, 327,   2,  48,   0,   6,   0],\n",
              "       [  1,   3,   0,   0,   0, 430,   0,  33,   4,  14],\n",
              "       [ 69,   1,  62,  30,  68,   2, 239,   1,  10,   0],\n",
              "       [  0,   0,   0,   0,   0,  30,   0, 431,   2,  37],\n",
              "       [  7,   4,  11,   2,   3,   9,  13,   6, 466,   5],\n",
              "       [  0,   0,   1,   0,   0,  11,   1,  22,   5, 437]])"
            ]
          },
          "metadata": {
            "tags": []
          },
          "execution_count": 10
        }
      ]
    },
    {
      "cell_type": "code",
      "metadata": {
        "colab_type": "code",
        "id": "48rjKi-DKS0D",
        "colab": {
          "base_uri": "https://localhost:8080/",
          "height": 34
        },
        "outputId": "1dc29cec-3ca0-4a60-8597-d9f079512205"
      },
      "source": [
        "print('Weighted Random Forest Classifier Accuracy: %.2f%%' % (accuracy_score(y_test, wrf_clf_preds) * 100))"
      ],
      "execution_count": null,
      "outputs": [
        {
          "output_type": "stream",
          "text": [
            "Weighted Random Forest Classifier Accuracy: 77.04%\n"
          ],
          "name": "stdout"
        }
      ]
    },
    {
      "cell_type": "markdown",
      "metadata": {
        "id": "8lR6axrOh6Pc",
        "colab_type": "text"
      },
      "source": [
        "## **Regression - California Housing dataset**"
      ]
    },
    {
      "cell_type": "code",
      "metadata": {
        "id": "S9jOIFTDiEAT",
        "colab_type": "code",
        "colab": {
          "base_uri": "https://localhost:8080/",
          "height": 51
        },
        "outputId": "26ed8b05-961f-4517-84bf-977f0263a4b6"
      },
      "source": [
        "drive.mount('/content/drive')\n",
        "%cd '/content/drive/My Drive/Practical topics in Machine Learning/EX3'"
      ],
      "execution_count": null,
      "outputs": [
        {
          "output_type": "stream",
          "text": [
            "Drive already mounted at /content/drive; to attempt to forcibly remount, call drive.mount(\"/content/drive\", force_remount=True).\n",
            "/content/drive/My Drive/Practical topics in Machine Learning/EX3\n"
          ],
          "name": "stdout"
        }
      ]
    },
    {
      "cell_type": "code",
      "metadata": {
        "id": "wZs8EvoSpdMl",
        "colab_type": "code",
        "colab": {}
      },
      "source": [
        "data = pd.read_csv('./housing.csv')"
      ],
      "execution_count": null,
      "outputs": []
    },
    {
      "cell_type": "code",
      "metadata": {
        "id": "0hI8xukQp1Fy",
        "colab_type": "code",
        "colab": {
          "base_uri": "https://localhost:8080/",
          "height": 306
        },
        "outputId": "1aa3c3c1-9beb-4ed0-b733-9953fdc6fea7"
      },
      "source": [
        "data.info()"
      ],
      "execution_count": null,
      "outputs": [
        {
          "output_type": "stream",
          "text": [
            "<class 'pandas.core.frame.DataFrame'>\n",
            "RangeIndex: 20640 entries, 0 to 20639\n",
            "Data columns (total 10 columns):\n",
            " #   Column              Non-Null Count  Dtype  \n",
            "---  ------              --------------  -----  \n",
            " 0   longitude           20640 non-null  float64\n",
            " 1   latitude            20640 non-null  float64\n",
            " 2   housing_median_age  20640 non-null  float64\n",
            " 3   total_rooms         20640 non-null  float64\n",
            " 4   total_bedrooms      20433 non-null  float64\n",
            " 5   population          20640 non-null  float64\n",
            " 6   households          20640 non-null  float64\n",
            " 7   median_income       20640 non-null  float64\n",
            " 8   median_house_value  20640 non-null  float64\n",
            " 9   ocean_proximity     20640 non-null  object \n",
            "dtypes: float64(9), object(1)\n",
            "memory usage: 1.6+ MB\n"
          ],
          "name": "stdout"
        }
      ]
    },
    {
      "cell_type": "code",
      "metadata": {
        "id": "zNKX_i1Yp1qz",
        "colab_type": "code",
        "colab": {
          "base_uri": "https://localhost:8080/",
          "height": 204
        },
        "outputId": "b99ee623-79ae-4f66-b5b9-f22b787bb550"
      },
      "source": [
        "data.head()"
      ],
      "execution_count": null,
      "outputs": [
        {
          "output_type": "execute_result",
          "data": {
            "text/html": [
              "<div>\n",
              "<style scoped>\n",
              "    .dataframe tbody tr th:only-of-type {\n",
              "        vertical-align: middle;\n",
              "    }\n",
              "\n",
              "    .dataframe tbody tr th {\n",
              "        vertical-align: top;\n",
              "    }\n",
              "\n",
              "    .dataframe thead th {\n",
              "        text-align: right;\n",
              "    }\n",
              "</style>\n",
              "<table border=\"1\" class=\"dataframe\">\n",
              "  <thead>\n",
              "    <tr style=\"text-align: right;\">\n",
              "      <th></th>\n",
              "      <th>longitude</th>\n",
              "      <th>latitude</th>\n",
              "      <th>housing_median_age</th>\n",
              "      <th>total_rooms</th>\n",
              "      <th>total_bedrooms</th>\n",
              "      <th>population</th>\n",
              "      <th>households</th>\n",
              "      <th>median_income</th>\n",
              "      <th>median_house_value</th>\n",
              "      <th>ocean_proximity</th>\n",
              "    </tr>\n",
              "  </thead>\n",
              "  <tbody>\n",
              "    <tr>\n",
              "      <th>0</th>\n",
              "      <td>-122.23</td>\n",
              "      <td>37.88</td>\n",
              "      <td>41.0</td>\n",
              "      <td>880.0</td>\n",
              "      <td>129.0</td>\n",
              "      <td>322.0</td>\n",
              "      <td>126.0</td>\n",
              "      <td>8.3252</td>\n",
              "      <td>452600.0</td>\n",
              "      <td>NEAR BAY</td>\n",
              "    </tr>\n",
              "    <tr>\n",
              "      <th>1</th>\n",
              "      <td>-122.22</td>\n",
              "      <td>37.86</td>\n",
              "      <td>21.0</td>\n",
              "      <td>7099.0</td>\n",
              "      <td>1106.0</td>\n",
              "      <td>2401.0</td>\n",
              "      <td>1138.0</td>\n",
              "      <td>8.3014</td>\n",
              "      <td>358500.0</td>\n",
              "      <td>NEAR BAY</td>\n",
              "    </tr>\n",
              "    <tr>\n",
              "      <th>2</th>\n",
              "      <td>-122.24</td>\n",
              "      <td>37.85</td>\n",
              "      <td>52.0</td>\n",
              "      <td>1467.0</td>\n",
              "      <td>190.0</td>\n",
              "      <td>496.0</td>\n",
              "      <td>177.0</td>\n",
              "      <td>7.2574</td>\n",
              "      <td>352100.0</td>\n",
              "      <td>NEAR BAY</td>\n",
              "    </tr>\n",
              "    <tr>\n",
              "      <th>3</th>\n",
              "      <td>-122.25</td>\n",
              "      <td>37.85</td>\n",
              "      <td>52.0</td>\n",
              "      <td>1274.0</td>\n",
              "      <td>235.0</td>\n",
              "      <td>558.0</td>\n",
              "      <td>219.0</td>\n",
              "      <td>5.6431</td>\n",
              "      <td>341300.0</td>\n",
              "      <td>NEAR BAY</td>\n",
              "    </tr>\n",
              "    <tr>\n",
              "      <th>4</th>\n",
              "      <td>-122.25</td>\n",
              "      <td>37.85</td>\n",
              "      <td>52.0</td>\n",
              "      <td>1627.0</td>\n",
              "      <td>280.0</td>\n",
              "      <td>565.0</td>\n",
              "      <td>259.0</td>\n",
              "      <td>3.8462</td>\n",
              "      <td>342200.0</td>\n",
              "      <td>NEAR BAY</td>\n",
              "    </tr>\n",
              "  </tbody>\n",
              "</table>\n",
              "</div>"
            ],
            "text/plain": [
              "   longitude  latitude  ...  median_house_value  ocean_proximity\n",
              "0    -122.23     37.88  ...            452600.0         NEAR BAY\n",
              "1    -122.22     37.86  ...            358500.0         NEAR BAY\n",
              "2    -122.24     37.85  ...            352100.0         NEAR BAY\n",
              "3    -122.25     37.85  ...            341300.0         NEAR BAY\n",
              "4    -122.25     37.85  ...            342200.0         NEAR BAY\n",
              "\n",
              "[5 rows x 10 columns]"
            ]
          },
          "metadata": {
            "tags": []
          },
          "execution_count": 36
        }
      ]
    },
    {
      "cell_type": "code",
      "metadata": {
        "id": "zu-PuwY3p4RO",
        "colab_type": "code",
        "colab": {}
      },
      "source": [
        "# Data preparation\n",
        "y = data[\"median_house_value\"]\n",
        "X = data.drop(\"median_house_value\", axis=1)\n",
        "\n",
        "# Although categorical attributes are allowed in DTs, sklearn version supports only float values.\n",
        "# Therefore, we should encode categorical attributes as one hot.\n",
        "X_oh = pd.concat([X, pd.get_dummies(X['ocean_proximity'])], axis=1)\n",
        "X_oh = X_oh.drop(\"ocean_proximity\", axis=1)\n",
        "\n",
        "# Impute missing data\n",
        "X_oh = X_oh.apply(lambda x: x.fillna(x.mean()))\n",
        "\n",
        "X_oh = X_oh.to_numpy()\n",
        "y = y.to_numpy()\n",
        "\n",
        "X_train, X_test, y_train, y_test = train_test_split(X_oh, y, test_size=0.1, random_state=0)"
      ],
      "execution_count": null,
      "outputs": []
    },
    {
      "cell_type": "markdown",
      "metadata": {
        "id": "OxHziR9-v8wy",
        "colab_type": "text"
      },
      "source": [
        "### Random Forest (RF) Regressor"
      ]
    },
    {
      "cell_type": "code",
      "metadata": {
        "colab_type": "code",
        "id": "3AnnShtHx4JE",
        "colab": {
          "base_uri": "https://localhost:8080/",
          "height": 88
        },
        "outputId": "5701577d-f3ef-403b-8c6a-679e43973e25"
      },
      "source": [
        "rf_reg_params = {\"n_estimators\": [100, 200, 500, 1000], \"max_depth\": [5, 10, 15, 20], \"max_features\": [None, 1, 2]}\n",
        "rf_reg_best_params = tune(RandomForestRegressor(random_state=0), X_train, y_train, rf_reg_params,\n",
        "                          \"neg_mean_squared_error\")\n",
        "\n",
        "print(rf_reg_best_params)"
      ],
      "execution_count": null,
      "outputs": [
        {
          "output_type": "stream",
          "text": [
            "/usr/local/lib/python3.6/dist-packages/joblib/externals/loky/process_executor.py:691: UserWarning: A worker stopped while some jobs were given to the executor. This can be caused by a too short worker timeout or by a memory leak.\n",
            "  \"timeout or by a memory leak.\", UserWarning\n"
          ],
          "name": "stderr"
        },
        {
          "output_type": "stream",
          "text": [
            "{'max_depth': 20, 'max_features': None, 'n_estimators': 1000}\n"
          ],
          "name": "stdout"
        }
      ]
    },
    {
      "cell_type": "code",
      "metadata": {
        "colab_type": "code",
        "id": "pOSG2XcSx8jQ",
        "colab": {
          "base_uri": "https://localhost:8080/",
          "height": 136
        },
        "outputId": "c6acd803-5800-4026-9faa-54018f059a9a"
      },
      "source": [
        "rf_reg = RandomForestRegressor(n_estimators=rf_reg_best_params[\"n_estimators\"],\n",
        "                               max_depth=rf_reg_best_params[\"max_depth\"],\n",
        "                               max_features=rf_reg_best_params[\"max_features\"], random_state=0)\n",
        "\n",
        "rf_reg.fit(X_train, y_train)"
      ],
      "execution_count": null,
      "outputs": [
        {
          "output_type": "execute_result",
          "data": {
            "text/plain": [
              "RandomForestRegressor(bootstrap=True, ccp_alpha=0.0, criterion='mse',\n",
              "                      max_depth=20, max_features=None, max_leaf_nodes=None,\n",
              "                      max_samples=None, min_impurity_decrease=0.0,\n",
              "                      min_impurity_split=None, min_samples_leaf=1,\n",
              "                      min_samples_split=2, min_weight_fraction_leaf=0.0,\n",
              "                      n_estimators=1000, n_jobs=None, oob_score=False,\n",
              "                      random_state=0, verbose=0, warm_start=False)"
            ]
          },
          "metadata": {
            "tags": []
          },
          "execution_count": 24
        }
      ]
    },
    {
      "cell_type": "code",
      "metadata": {
        "colab_type": "code",
        "id": "cwqNcZsxx-K4",
        "colab": {
          "base_uri": "https://localhost:8080/",
          "height": 51
        },
        "outputId": "8b3335e3-0e7a-4c0e-cd9c-b28fe25ff3ef"
      },
      "source": [
        "rf_reg_preds = rf_reg.predict(X_test)\n",
        "print(rf_reg_preds)"
      ],
      "execution_count": null,
      "outputs": [
        {
          "output_type": "stream",
          "text": [
            "[162478.93291667 246179.56214239 143254.46170765 ... 239798.51807956\n",
            " 292349.37635389 162972.32155594]\n"
          ],
          "name": "stdout"
        }
      ]
    },
    {
      "cell_type": "code",
      "metadata": {
        "colab_type": "code",
        "id": "LeiTlTH5yAO5",
        "colab": {
          "base_uri": "https://localhost:8080/",
          "height": 34
        },
        "outputId": "c7ef94ef-8ca2-4c48-c06e-5e3790e9e52b"
      },
      "source": [
        "print(\"Random Forest Regressor MSE: {}\".format('%.3f' % mean_squared_error(y_test, rf_reg_preds)))"
      ],
      "execution_count": null,
      "outputs": [
        {
          "output_type": "stream",
          "text": [
            "Random Forest Regressor MSE: 2074099431.577\n"
          ],
          "name": "stdout"
        }
      ]
    },
    {
      "cell_type": "markdown",
      "metadata": {
        "id": "GwMZmkW3wMJH",
        "colab_type": "text"
      },
      "source": [
        "### Weighted Random Forest (WRF) Regressor"
      ]
    },
    {
      "cell_type": "code",
      "metadata": {
        "colab_type": "code",
        "id": "y6j1XC0MRK6s",
        "colab": {}
      },
      "source": [
        "wrf_reg_params = {\"n_trees\": [100, 200, 500, 1000], \"max_depth\": [5, 10, 15, 20], \"n_features\": [None, 1, 2],\n",
        "                  \"weight_type\": [\"div\", \"sub\"]}\n",
        "                  \n",
        "wrf_reg_best_params = tune(WRF(type=\"reg\"), X_train, y_train, wrf_reg_params, \"neg_mean_squared_error\")"
      ],
      "execution_count": null,
      "outputs": []
    },
    {
      "cell_type": "code",
      "metadata": {
        "id": "GPrabl-a2k_S",
        "colab_type": "code",
        "colab": {
          "base_uri": "https://localhost:8080/",
          "height": 34
        },
        "outputId": "4d369292-9ea6-4c20-d3bc-4256f08f50bd"
      },
      "source": [
        "print(wrf_reg_best_params)"
      ],
      "execution_count": null,
      "outputs": [
        {
          "output_type": "stream",
          "text": [
            "{'max_depth': 20, 'n_features': None, 'n_trees': 1000, 'weight_type': 'sub'}\n"
          ],
          "name": "stdout"
        }
      ]
    },
    {
      "cell_type": "code",
      "metadata": {
        "colab_type": "code",
        "id": "5mp66pDd20_T",
        "colab": {}
      },
      "source": [
        "wrf_reg = WRF(n_trees=wrf_reg_best_params[\"n_trees\"], max_depth=wrf_reg_best_params[\"max_depth\"],\n",
        "                 n_features=wrf_reg_best_params[\"n_features\"], type=\"reg\", weight_type=wrf_reg_best_params[\"weight_type\"])\n",
        "\n",
        "wrf_reg.fit(X_train, y_train)"
      ],
      "execution_count": null,
      "outputs": []
    },
    {
      "cell_type": "code",
      "metadata": {
        "colab_type": "code",
        "id": "5Sai1fEd24xn",
        "colab": {
          "base_uri": "https://localhost:8080/",
          "height": 54
        },
        "outputId": "479e1439-e499-4501-85c2-58fea958c655"
      },
      "source": [
        "wrf_reg_preds = wrf_reg.predict(X_test)\n",
        "print(wrf_reg_preds)"
      ],
      "execution_count": null,
      "outputs": [
        {
          "output_type": "stream",
          "text": [
            "[134799.9999655601, 267700.0000011405, 135118.1818163118, 67499.99999413443, 199999.99997503054, 101299.9999906721, 315499.999974888, 315299.99999545823, 262099.999981575, 255899.99998364563, 332766.66668301425, 59599.99999672098, 82557.89473923678, 101299.99998753564, 161299.99999745417, 359899.99997146614, 392200.00000759674, 97499.99999894093, 135392.85713858795, 361599.99998661916, 131099.9999991446, 57082.50000047477, 231999.99999463905, 259952.27273223246, 183174.99999691956, 169200.00000460283, 177899.99999794297, 166699.9999827617, 90599.99999775094, 57082.50000003038, 500000.99999999994, 500001.00001097773, 500001.00003395806, 167599.9999992668, 92700.0000056008, 110087.49999339867, 177500.00000525458, 124502.38095079284, 366700.00002863025, 116999.99999010183, 166300.0000155397, 74599.99999507128, 72649.9999985336, 270717.64708096563, 160599.99999396876, 82557.89473809625, 248200.00003103865, 135999.999994277, 165333.33333096586, 179499.99994490837, 294399.99999063136, 110300.00000875762, 332800.0000207688, 223200.0000131568, 224999.9999898167, 121899.99999631364, 154199.99996012222, 140299.99999292466, 185335.5932186914, 394900.0, 149499.9999976171, 145499.99999016293, 100000.00000154784, 268900.00001639506, 128157.69231020544, 70199.99999762728, 75662.49999885184, 369200.0000029124, 185099.99999107944, 96200.00000167005, 500000.99999999994, 150999.99999999997, 182416.66667383906, 50070.64220313234, 184797.0588002412, 219400.0000266395, 353800.00001435843, 221100.0000010183, 172985.71428626127, 130599.99999714867, 244099.99999830956, 187500.00000509166, 250000.0000254582, 234830.76924860076, 181499.99999692693, 188449.9999943273, 88999.99996551938, 202200.00001002036, 67899.99999566191, 136300.00000072186, 217800.0000083182, 174500.000000224, 63300.000000753564, 281800.00000610994, 76799.99999782078, 229600.00001154782, 227899.99999436864, 267899.99999519344, 112018.74999906468, 283899.9999905091, 130999.99999686354, 214166.666679002, 297499.999968941, 271600.0, 171099.9999330141, 231599.9999832383, 206299.9999970672, 69899.9999990224, 62999.99999911609, 187499.99993635443, 241900.0000048065, 57082.49999993533, 180899.99998362525, 500000.99999999994, 209700.00001476577, 346200.0000015275, 204900.00001268837, 219000.00001606924, 139599.99999613033, 98899.99999501018, 320500.0000213034, 160100.00001623214, 222300.00000487725, 233099.9999815275, 153100.0000012831, 405200.00000158855, 116999.99999199592, 320099.99999778, 320799.999964888, 213055.55555890928, 92950.00000072301, 311057.14288240904, 145799.99999745417, 345900.00003238284, 91471.42858343902, 199999.99999490834, 359900.0000093686, 345900.0000171758, 264400.0000207128, 56699.99996572304, 137500.0000058452, 500001.00004090805, 105799.99997902241, 142000.00000623215, 123766.66666601323, 70024.9999948054, 241400.00000696536, 387500.0000197352, 64999.99999503054, 185300.00000619143, 500000.99999999994, 271899.9999822607, 118799.99999619143, 84400.00000391038, 187500.00001244058, 344200.00000124815, 187199.99999967733, 182400.00001140186, 56099.999999775966, 139199.99998023626, 318900.00002217916, 119799.99999661914, 240399.99997234216, 87500.00000376781, 142600.00000052952, 281360.00001084723, 486800.00004454167, 244300.00002378813, 103599.99999309571, 151500.00000167004, 217799.99995649696, 91471.42856701592, 273199.9999612016, 152099.99999315682, 160407.99999321954, 214699.99999655804, 161716.66664359468, 195300.00000712828, 414800.0000030142, 185200.00001437878, 54199.99998855397, 322899.9999975254, 163933.33331991854, 75299.9999987169, 92357.14286519928, 130999.99998814664, 147499.99999897796, 344100.00001800404, 142299.99999920567, 61299.99999409369, 290700.0000040937, 158200.00000356414, 168799.99998404132, 315600.0000084521, 54999.99997177191, 189900.00000401976, 55899.99996169045, 146599.9999967617, 500000.99999999994, 174999.9999918941, 318399.9999945825, 117399.99998044621, 299999.9999979633, 75571.4285751702, 105000.00000256617, 500000.99999999994, 136399.99999187372, 129499.99996362528, 54399.99998803717, 400000.0000084521, 362300.0000095112, 124999.99999999999, 177999.99998936863, 225800.00000013152, 231999.99999463905, 69099.9999920774, 141643.7500021372, 87049.99999827282, 300000.00000849285, 115600.00000346231, 127899.99999521385, 195799.9999964562, 188299.99997725053, 445000.00001828914, 500000.99999999994, 135000.00000236253, 111815.38461852419, 257199.99998743378, 233199.99999484725, 78699.99999684318, 175399.99998916496, 138300.00000818737, 137499.99999490837, 123163.4920602667, 198099.99999995925, 64899.9999989613, 398799.999982444, 278499.9999852444, 144699.9999561507, 143200.00000038696, 129099.99999580446, 265900.0, 201499.99999444216, 69999.99999883909, 349999.99997963343, 117599.99998619145, 249180.00000480752, 100499.99997855398, 175400.0000029735, 145500.00000126273, 302399.99997961306, 144099.99999051937, 222241.37930171783, 216900.0000076697, 116099.99998969451, 107900.00000288797, 186300.00000021723, 142500.00000050914, 265100.0000067617, 240300.0000027902, 157800.00000423624, 192700.0000007975, 204600.00000757637, 120600.00000136455, 57499.999983075366, 252100.00000393073, 391300.00000686356, 82557.89473522456, 500000.99999999994, 245800.00000830955, 271899.9999882892, 249999.99998472503, 70799.99999869654, 409900.0000116293, 140499.99999350304, 125000.000003279, 420300.00000433804, 173200.0000104888, 72622.22222228783, 200000.00001782074, 117599.99998735235, 174400.00000570263, 166100.00000667004, 204199.99998649696, 450000.0000549694, 143100.0000044399, 134199.99999267556, 294499.9999581464, 319199.9999996741, 276299.9999727699, 275000.0000231772, 271799.9999991843, 398999.99999999994, 68199.99997912424, 100899.9999915275, 500001.0000674543, 148800.00000412218, 217999.9999934216, 141000.0000006042, 114199.99997987782, 111815.38461667762, 81900.00000415478, 216699.9999760896, 160166.6666667617, 210100.00001846993, 182527.77777754806, 154600.00000983707, 342200.0000081059, 500001.0000475765, 475000.00006999995, 247500.00001093684, 134000.00001354376, 159799.99998798373, 107399.99997584522, 111499.99999851323, 286099.9999973523, 434500.0000017108, 493300.00004877796, 212500.00002122196, 260499.99998959264, 164400.00000338085, 179199.99999564153, 500000.99999999994, 349999.99999898166, 105866.66666936863, 216099.9999998778, 239999.99999999997, 364300.0000022403, 225700.00000510688, 270717.64708096563, 289399.9999909572, 204400.00001435843, 135699.99999900203, 113599.99998723014, 91299.99999657841, 218499.9999979045, 156299.99998209777, 54999.99999338086, 187500.00001527494, 153100.00000647656, 164100.0, 337200.00003584515, 464300.00002608955, 187499.9999945825, 47699.99999873727, 171299.99999922607, 91914.28570343323, 90599.99999775094, 231514.28570635358, 500000.99999999994, 57082.50000062101, 364699.9999831568, 229600.00000458246, 90499.99997900204, 87419.99999792667, 364600.0000357311, 202499.9999745825, 137500.0000098167, 229199.99999403258, 120277.77777698573, 95899.99998806675, 193799.9999620774, 160599.9999927291, 183174.9999993508, 156509.0909212923, 114299.99998470469, 284599.99999883905, 229299.9999999185, 273085.71427334886, 260963.46152800604, 160200.00000539713, 405100.00002352335, 120200.000005723, 231800.0, 160900.00000702305, 338700.00001150713, 347699.99996898166, 162499.99999207738, 341199.99999945005, 300700.00000749493, 213799.99994171062, 142599.99997710795, 236500.0000090224, 61657.14285715449, 160166.6666673727, 249180.00000999589, 158449.99999845724, 159800.00000004072, 237000.00000458249, 112018.74999906468, 315599.999997169, 85499.99999953156, 160408.00000346394, 222190.90910012156, 162500.00000193482, 100299.99997460286, 281900.0000146028, 128899.99998747454, 233100.00000063542, 73805.2631582013, 94600.0000016429, 155599.99999386966, 369699.9999734621, 500000.00004837057, 256362.50000373056, 244200.00003317714, 328399.99997354374, 170799.99998892992, 61199.999995784114, 209399.9999408145, 69499.99999999999, 55646.87500018238, 215600.0000068228, 367600.0000039307, 124118.18181276802, 465000.00000965374, 166900.00001057025, 164399.99999364562, 221399.99999623216, 123163.49205354572, 235399.99999306854, 59212.49999537593, 442900.00001382886, 65464.70588350664, 437500.0000554174, 500000.99999999994, 57082.49999921911, 252700.00001107942, 262999.99998586555, 150800.00000759674, 148019.99999487167, 232800.00000211812, 362700.00000209775, 90900.00000291242, 55646.874999785505, 193799.99997496945, 79699.99999712831, 350000.0000095926, 146499.99999894094, 334699.9999663338, 187499.99999930753, 74999.99999930753, 88799.99999826301, 266400.00002488797, 112700.00000026476, 97436.73468975059, 405400.000022281, 213055.5555556076, 169699.99999503055, 171333.33333086106, 203396.15384869772, 499100.0000407738, 88999.99999417516, 90000.00000008146, 238600.00000490833, 350000.00004091643, 137199.99997456212, 203396.15384871108, 37499.999905804354, 59585.71428377654, 84899.99999965173, 331900.00000698573, 398800.00000484724, 211099.99999615477, 313100.0000344399, 144691.6666682128, 114599.99999450102, 355300.00001562113, 337200.0000421181, 500000.99999999994, 37499.99998010184, 53987.499996474035, 175200.00000197554, 69590.9090907262, 94700.00000107943, 63300.000000753564, 92000.00000008146, 182000.00000014255, 261400.0000072505, 98799.99999678206, 272899.99997906317, 152500.00000093685, 120000.00000433807, 269699.9999965784, 155400.0000045182, 199350.00000171983, 178903.7036851505, 222774.99999599627, 152700.00000370672, 115099.99999741344, 239599.9999927291, 318400.0000133197, 128157.6923082845, 321100.0000104073, 167800.0000011609, 123163.4920670895, 73199.99998906314, 63199.99999617108, 82557.89473261764, 118200.0000036456, 71999.99999678208, 91471.42857879544, 80299.99997895, 500000.99999999994, 121899.99999999999, 95599.99999957415, 316000.00000900205, 70714.28571135583, 157800.000018167, 415899.99998287146, 59199.99998940937, 185099.99998018204, 176235.29410909687, 155999.99999602852, 124850.00000275967, 100300.00000046843, 94399.99999348269, 147800.00001350304, 75100.00000177188, 87099.99999058046, 172985.71427750363, 253699.9999954786, 142599.99999594706, 134599.99998936863, 478400.0000042973, 51499.99999933781, 137099.99999930244, 500000.99999999994, 176699.99998983773, 445200.0000387168, 93224.99999946711, 128157.69230699123, 485000.0000224032, 351399.999969735, 192700.00002549894, 159399.99998899185, 112500.0000041344, 500001.00001590647, 287500.00000841136, 236500.00000485306, 117500.0, 307100.0000251787, 500000.99999999994, 133699.99999818736, 108199.99999843526, 160408.000000274, 60399.99999919665, 95849.99998850306, 267499.99999696406, 142599.999984277, 195211.11110053147, 110087.49999897911, 200000.00000190426, 73899.99999904276, 162500.00000763746, 107499.99999566191, 73805.2631582013, 83379.99999789409, 121099.9999992057, 253899.99999938134, 167699.9999843788, 146699.9999997393, 167308.21917997592, 354000.0000078208, 500000.99999999994, 209199.99999008144, 262499.9999516294, 315600.0000067604, 58849.99999919551, 93800.0000055406, 275000.00000528514, 187199.9999867006, 213055.55555489418, 58700.00000014256, 259399.99999222334, 176599.99999920567, 116399.99998983707, 86749.99999946028, 193200.00000466395, 244099.9999853157, 113599.99999782076, 113899.99999096945, 450000.0000099796, 77499.99998714868, 104275.00000740834, 69000.00000262728, 142599.99999594706, 116099.99999703666, 161125.00000098083, 123163.49204814858, 349999.99999472505, 54300.000000875756, 97523.07691416105, 352800.0000379022, 178500.00000329936, 165800.00000014255, 100000.00000234215, 500000.99999999994, 153800.00000026103, 452600.00001767813, 122500.00000773929, 374000.0000099389, 114462.4999902164, 364299.9999762729, 185899.99998885946, 391000.00003991846, 130600.00000041547, 500000.99999999994, 209161.53846066503, 148799.99999411404, 140449.9999990733, 110087.49999897911, 75662.49999982129, 217100.00000684318, 124399.99999427328, 57839.2857141851, 117299.99999033097, 299100.0000038085, 500000.99999999994, 396399.99999999994, 132799.9999837329, 443600.00000688387, 120799.99999851323, 400000.00004437874, 450000.00002733193, 219399.99999949083, 328800.0000143177, 318400.0000052546, 93599.99999617107, 500000.99999999994, 81799.9999767821, 74100.00000032586, 163000.00001046841, 320121.0526333602, 161500.00001389, 138100.00000073318, 178903.7037070446, 156509.09090133308, 234999.99998134418, 215599.99998835032, 337400.0, 434500.0000017108, 184500.0000085336, 60999.999989226075, 184797.05882364998, 181399.999983055, 56099.99999963339, 283200.00001325866, 124999.99999861505, 142900.00000393073, 500000.99999999994, 158300.0000122607, 263100.0, 273600.00001158856, 221400.00001920565, 222599.9999995112, 184199.99997765786, 185335.59319993888, 95999.99999535641, 142899.99999896536, 206300.00000977595, 269700.00000582077, 120311.11110832145, 97436.7346831722, 180899.9999898349, 216499.99999867615, 129650.00000296332, 220699.9999944603, 149999.99999612014, 238599.9999902851, 65199.999985784125, 55646.87500018238, 56449.999996344195, 110324.99999672268, 143899.99999851323, 76800.00000393075, 404800.00000993884, 128157.69232039244, 134299.99999788866, 195211.1111120421, 95099.99999984898, 500000.99999999994, 93799.99999279022, 130399.99997751528, 342200.00002859463, 117999.9999945689, 37499.99993336054, 146599.99998205702, 161899.99997778004, 162500.0000016904, 244300.00001492866, 260500.00002384925, 331300.0000472504, 103099.99999999999, 251200.00001745415, 182527.77776564492, 104274.99999602341, 179200.00000340122, 88900.00000488797, 361700.00001193484, 73799.99996902242, 283843.7500280129, 221300.0000052342, 129399.99998637475, 191099.99999999997, 233300.00000254583, 128157.69231676718, 260963.46153744697, 46199.999995376784, 179699.99999069245, 133399.99999727088, 95900.00000144602, 70714.28571121326, 230487.87877730478, 199999.99999745414, 500000.99999999994, 73140.00000099931, 500001.00001287187, 144833.33333042767, 178903.70371339895, 135118.18181488613, 188699.99999762748, 157733.33333832675, 264099.99999093683, 174600.0, 500001.00003651745, 100799.99999391039, 319100.00000580447, 145199.99998654786, 162499.999998778, 422500.0000023014, 148299.99999279928, 81600.0000015275, 164800.0000002342, 500001.0000294706, 122899.99999130346, 121050.00000265783, 101300.00000111171, 289500.00000479736, 89999.99998240326, 90620.00000705091, 162999.9999956171, 418299.9999931161, 238900.0000141344, 280799.9999667617, 149999.99999720213, 190230.55555098513, 68099.99999894093, 92700.00000319755, 246600.0000036275, 195799.99997955194, 64247.826089023285, 161124.99999473014, 269799.99997503054, 265999.99999861507, 251279.99999524286, 85899.99999209777, 111499.99996466398, 118800.00000580445, 366699.99999999994, 124399.99999829826, 283843.750016869, 181700.00000879835, 53999.99999873727, 133900.00000158857, 73100.00000132472, 155000.0000086558, 128157.69230635987, 132099.99992507114, 141099.99999741343, 240359.0908971188, 213800.00001519345, 111299.9999957841, 142300.00000810588, 500000.99999999994, 115799.99999507128, 118800.00000421586, 193299.99998999998, 201900.00000604885, 147500.00000004526, 222260.0000032505, 109200.00001118126, 148200.00000812626, 252100.00001339827, 144691.66664534115, 359700.0000283095, 432199.9999992668, 226066.6666594365, 56699.99996572304, 224099.99999990893, 167000.00000246437, 126499.99998757638, 110300.00000947044, 351900.0000054379, 160599.99998892058, 197600.000002057, 168279.99999388595, 363600.00001488795, 199100.00000314548, 198599.9999952179, 500001.00001718954, 254499.99999999997, 115199.99999494909, 500000.99999999994, 254923.07692884604, 97499.99998523423, 320400.0000235438, 123163.49206411597, 67757.14286185917, 234999.99999843177, 115599.999996945, 174199.9999998778, 197899.9999982892, 207699.99999999997, 226066.66667963626, 271599.9999725866, 500000.99999999994, 158000.00000904276, 291000.0000223014, 195800.00000331973, 97899.9999873778, 240199.99998831295, 52199.99999983706, 43999.999996578415, 392900.0000137882, 72499.99999967414, 263199.9999517717, 90500.00000360487, 50070.64220113641, 176100.0000018941, 138999.99999957907, 355100.00000024436, 127199.99997879837, 500001.0000427904, 199299.99999279022, 478500.00002101826, 433299.99999999994, 175600.00000464357, 87500.00000177188, 158100.00000354377, 63299.99999863544, 83839.99999161711, 75500.00000122198, 173174.9999979028, 160407.9999994017, 93199.99999922607, 124502.38095280912, 261300.0000049898, 160407.99999962142, 171299.9999676375, 182999.9999998778, 368900.00000431767, 500001.00002745434, 56699.99999584521, 130399.99999709436, 108514.28571339248, 293800.00003904273, 273085.71428792115, 189199.99993670045, 249179.99998486115, 222241.37929261394, 170700.0, 337200.0000375967, 271099.99995338067, 196300.00000490833, 167499.99999712833, 192500.0000010183, 236799.99999588594, 276600.00000659877, 100499.99999464357, 105100.00000158277, 110087.4999934394, 198499.99999383118, 91099.99998945011, 114199.99996694503, 222241.37929813328, 260300.00000372707, 293999.9999862933, 199999.9999941344, 239899.99999879836, 158499.99997759674, 148200.00001755598, 118099.99999999999, 73140.00000145417, 179699.999994501, 332766.66667462455, 274999.99998425663, 469399.9999937676, 356500.0000174949, 234099.99998631363, 89200.0, 182527.77777754806, 167308.21917328957, 201559.99993921776, 308500.0000068966, 97436.73469660117, 97436.73470317217, 185600.00001433806, 143299.99996276986, 73139.99999666802, 229999.99999999997, 65499.99999989816, 123163.49206631114, 160399.99998898167, 182416.6666706008, 286400.0000060005, 417600.0000163136, 342899.99996800383, 98800.00000173114, 376100.0000231364, 76000.00000046843, 464300.0000572912, 325000.00000391033, 423400.00001050916, 337399.9999885336, 271600.0000011405, 293200.0000043584, 134200.00000031397, 380400.00001348264, 217099.99999811608, 193799.99996653767, 145499.99999680245, 332766.66668301425, 164100.0000117719, 88299.99999999999, 220700.0000076782, 359000.0000058655, 175099.99999289206, 209700.00000197554, 139100.00000439916, 142599.99998718943, 132500.00000123895, 346799.9999789817, 71326.08695652706, 116099.99999105907, 410000.00003309565, 97436.73468180763, 190599.9999862118, 166999.99999061102, 67499.99991700618, 149599.99998004074, 67499.99999413443, 272800.0, 148200.00000635436, 59999.99999809911, 301838.095249549, 167000.00000309572, 265900.0000203462, 130999.99998989816, 67166.66666651731, 97199.9999996334, 173971.42856372418, 500000.99999999994, 118200.00000393075, 500001.00004164985, 275900.0000103666, 275000.0000269043, 151000.00000269653, 54999.99999999999, 452099.99999024416, 296400.0000207943, 99999.99999604886, 103457.14285689442, 225799.99999448317, 219300.00001185335, 99999.99998808553, 117000.00000464357, 83099.99998988686, 68300.00000289205, 287499.99997830956, 173166.66666647655, 500001.0000026478, 195800.00000331973, 67499.99999898167, 224100.00003189404, 500001.000024827, 213318.1817689595, 353899.9999702442, 116700.00000093685, 78599.99999393075, 143099.9999984114, 187499.99993635423, 385000.00001633394, 97436.73468826384, 157499.9999974338, 139600.00000065172, 101199.9999907943, 165161.11108382375, 166899.99998720977, 295300.0000219144, 118799.99999778003, 126600.00000757637, 182527.77778255683, 111099.99999519349, 237899.99999653766, 224700.00000916497, 54399.9999652546, 500001.0000065786, 305775.0000215224, 271199.99999598775, 207800.00002035842, 181699.99999947046, 500000.99999999994, 239900.00000784112, 160599.99997466395, 114299.99999403258, 108514.28571453302, 114363.63635408517, 60599.99999745417, 83800.0000053564, 291000.0000148065, 137500.00000875763, 254200.0000210794, 240800.0000291464, 500000.99999999994, 348999.99999611, 293800.00002615066, 500000.99999999994, 68400.00000158859, 128157.69231676718, 276800.00000570266, 126900.000000675, 182416.66666125253, 135400.00000158857, 67499.99998574339, 94899.99999772913, 282500.00000395114, 137999.99999820773, 104200.00000207739, 350000.0000376578, 208999.99999523736, 449999.9999898167, 247700.000005112, 58300.00000008146, 132999.99999790223, 71299.99998334014, 144099.9999944603, 186800.0000000989, 122399.99997655804, 186200.00001020363, 187999.99999588594, 208300.00001293275, 236049.9999987067, 64247.826086478366, 335099.9999664152, 152400.0000019959, 118099.99999148675, 143999.9999892943, 157499.99998582486, 86592.30769106376, 176099.99999788188, 275099.9999881325, 270199.99999909627, 211500.0000030369, 172800.00001073317, 500000.99999999994, 500000.99999999994, 266699.9999993279, 130700.00000934825, 101100.00000254581, 116899.99999488797, 167700.00001014254, 254899.99995008128, 70300.00000030549, 350399.999982281, 73100.00000132472, 185335.59321961302, 340799.999975723, 256362.4999851329, 156600.000006945, 146599.9999765784, 193000.0000018737, 349999.9999694499, 273299.9999538287, 182416.66666641433, 91199.99999879836, 59099.99999305499, 500001.00001389015, 92599.99999731159, 69099.99999632528, 127400.00000244398, 141000.0000016989, 220500.00000798368, 72622.22221890699, 71399.99999722431, 274999.99996523425, 68900.00000099796, 71800.0, 213055.55555489418, 82557.89473809625, 281299.99999496946, 166300.00001455192, 241274.99997347762, 227800.0000065784, 185099.99998505093, 234999.99997771895, 132799.9999796945, 324699.9999938289, 80699.99999352342, 269999.99999747326, 80299.99998227654, 140299.9999844603, 156300.00000823158, 164300.0000125458, 44999.99999718941, 500000.99999999994, 391300.00003415474, 71699.99999678208, 42500.00000101832, 195349.99999985305, 333300.0000034826, 74999.99999686354, 189525.92592648108, 262499.99995162914, 262099.9999751935, 176600.00000904273, 403719.99998039077, 109300.000002668, 135599.99999928716, 162499.9999956008, 213799.99999949022, 199800.0000008554, 190300.00000065172, 196000.00000859468, 136766.6666676765, 213899.9999977079, 125799.99999527495, 90800.0000059674, 186400.00000680922, 97846.15384359706, 69600.00000027833, 61657.14285872272, 439000.0000231771, 500000.99999999994, 82008.33333454888, 183300.00000675488, 170300.0000227902, 198599.9999952179, 119399.99999325495, 213318.1818141224, 192299.99998539715, 73140.00000328716, 149999.9999916689, 96499.99999937153, 178903.70369261826, 174600.0, 156300.00001154785, 160900.00000702305, 195350.00001220976, 208620.00000334418, 185335.59321805192, 126599.9999935438, 55646.87500143181, 88899.99999219959, 157099.99999462886, 472199.99999433785, 305000.00004419545, 236300.00000602848, 367400.00000893854, 98000.00000533604, 270800.0000354582, 73805.26315422982, 479699.99999586534, 218200.00000264763, 233299.99994694506, 175499.99999602852, 91700.00000380854, 171699.99996564156, 168799.99999873727, 185899.999989389, 95099.99999984898, 387500.00002352335, 279500.0000250805, 419899.99998368614, 276300.0000040733, 108000.00000085539, 361499.99999268836, 68299.99999999999, 195350.0000017006, 57839.28571535278, 166999.99994378822, 318700.0000137067, 159799.99999641548, 261900.0000101222, 260899.9999997556, 57082.49996580094, 220599.99999624438, 166699.99998134418, 243200.00000949312, 255500.00000928715, 148199.99999900744, 133599.99998997964, 209405.26316308926, 392200.0000050713, 155399.99999769856, 162499.99999914458, 158560.00000526677, 146199.99999034623, 166500.0, 155500.00000156823, 254200.0000123014, 112499.9999991627, 184499.99999389003, 362499.9999719957, 66399.99999692464, 324085.7142887052, 104274.99999602341, 230800.0000017617, 500001.0000067415, 279900.00001734163, 189525.92593089046, 102699.99999763747, 186200.00000354377, 285400.0000018737, 119288.8888798235, 86600.00000684317, 196799.99999999997, 291700.0, 129500.00000592667, 196999.99999653766, 178500.00000093682, 111483.33333070845, 474100.0000121792, 86592.30769387435, 50070.64220125861, 269200.0000076375, 215700.00000828918, 500000.00000144594, 222124.9999951782, 243199.99999959266, 59212.499998954794, 430199.9999857839, 320800.000006782, 195699.9999992464, 118322.22221687033, 119300.0000040151, 409899.9999914053, 123999.99998792261, 153499.9999889002, 500001.000005825, 198499.99999309887, 138199.99998016295, 163933.3333337271, 461599.999992179, 477099.9999953358, 109312.50000415732, 98399.99999623217, 211050.0000055793, 138899.99999910386, 76049.9999960325, 90600.00000408915, 183399.99999947046, 239299.99998136456, 500000.99999999994, 161300.0000010387, 74699.9999992668, 252000.00001568225, 500000.99999999994, 395300.0000066802, 64699.99999281059, 365899.99997598777, 119799.99999999999, 70714.28571331101, 236049.9999998007, 233299.99999224034, 348599.9999852953, 260963.46152800604, 260500.00001720974, 260963.46153360684, 203099.9999890224, 162500.00000851322, 299100.0000122321, 104300.00000482687, 108514.28571384055, 247600.00001857433, 269500.00003476575, 254500.00001437878, 257377.7777788934, 500001.00002800423, 168799.99999362117, 96200.00000217921, 302099.9999877393, 204299.99999813642, 159700.00000961302, 417799.99998452136, 179099.99999999997, 168800.0000081955, 500001.0000546458, 82557.89473225105, 500001.00000678224, 167308.21917834354, 257800.00000800405, 222399.9999862118, 87420.00000609367, 50070.64220088156, 75500.00000008146, 189525.92592242814, 282500.0000084725, 244699.9999991548, 321600.0000247658, 221612.50000391292, 97436.73468180763, 93800.00000099796, 244099.9999935427, 188499.999967108, 76874.9999980173, 123399.99999474133, 165200.0000024847, 318100.00001745723, 50070.642201238246, 123163.49207041944, 186300.00001265443, 187499.99998048882, 59212.499998954794, 182416.66667212828, 214166.6666802896, 259599.9999897963, 343200.0000031568, 159399.99995826886, 176600.00001305496, 277799.99997608963, 374199.9999757637, 111815.38462159954, 387799.99998325866, 123400.00000274948, 160899.9999951894, 71299.99998906314, 246571.42857072447, 230799.99995128313, 137500.0, 368700.00000281056, 418800.0, 52999.99999226522, 239000.00001336046, 111499.99999684826, 112499.99992107949, 81906.25000242489, 145499.9999998778, 328900.00002293213, 232100.00000008146, 451699.9999914256, 160212.76595680875, 214399.99999808552, 106200.0000018068, 164500.00000203666, 241274.99999296735, 137200.00000525455, 61299.9999666599, 211099.9999908554, 88800.00000188593, 179899.9999990224, 81906.25000598904, 116100.00000004422, 288200.00001008145, 158449.9999914666, 193799.9999817719, 134700.00000283093, 92499.99999910557, 96139.99999915274, 375699.9999757637, 184199.99997765786, 94999.9999909776, 291700.0000111812, 230800.00000729124, 95999.99999778003, 185335.5932186914, 157600.00000375966, 105299.99998936863, 113199.99999742363, 500001.0000329533, 158000.00001094196, 202299.99998105908, 260075.00000154274, 231999.99999812624, 187799.99999959266, 227900.00000026543, 375699.9999746841, 114462.49999848523, 145500.00001556007, 102099.9999889502, 343199.99999837065, 185099.99998236253, 271400.00000388996, 104200.00000747453, 218800.00001109976, 296300.0000121181, 108399.99998898167, 143099.9999997556, 148699.9999944603, 135118.18180519165, 124502.38094669915, 160407.99999321954, 177739.99999825368, 71999.99999985743, 182849.9999965071, 68800.00000065172, 500001.0000150714, 500000.99999999994, 72524.9999976222, 324899.9999990916, 264600.000002668, 185899.99997851325, 332399.99999999994, 183000.0000048676, 406200.00002083497, 135118.18181718755, 114499.99997989819, 97523.07692380754, 274300.00000794296, 266399.999995112, 146799.99999032586, 304700.00000362523, 333700.0000386354, 173500.0000005499, 90100.00000285811, 313299.9999619753, 207800.0000039511, 135400.00000002037, 70199.99999762728, 166099.99999501018, 96899.99996712833, 73400.00000297351, 128157.69231433736, 57875.00000063617, 246499.99999558044, 137499.99999405295, 155499.99999606924, 142100.0, 255000.0000054786, 282500.0000033809, 279500.0000250805, 240499.9999850509, 137499.99999761305, 222241.37927414145, 350000.00001213845, 379500.0000082892, 115199.99999986093, 287299.99995668005, 116700.00000253053, 65464.705881184855, 228199.99999397146, 442900.00004437874, 113100.00000063135, 364900.00002171076, 134999.99999771893, 118000.00000075356, 243300.0000036957, 136900.00000881872, 164299.99998822808, 500000.99999999994, 69899.9999990224, 335500.000014166, 70799.99993973528, 87900.00000344195, 203122.2222236582, 280000.0000208757, 200000.00001490832, 151500.00000197554, 378000.0000060488, 373600.00000476575, 129299.99999917853, 301100.0000073116, 221100.0000012627, 248700.00000344194, 170600.0000025458, 469399.9999937676, 392099.9999780242, 118799.99999293278, 274600.00000336044, 160407.99999321954, 285799.99999403255, 244000.00000246434, 135000.00001070264, 55000.00000101832, 164300.0000016182, 93500.00000112016, 134399.99999916495, 96999.99999334013, 102499.99999973523, 55646.874999907704, 123163.4920635525, 302400.0000047861, 100500.00000303461, 186399.99997088392, 71499.99999515274, 405900.0000286354, 78500.0000054786, 107699.99998783879, 82299.9999993279, 118100.00000114052, 100799.99999957636, 118100.0000058452, 71400.00000059062, 466700.0000115478, 500001.0000381875, 84100.00000004073, 235200.00002020365, 72999.99999246436, 183300.00000763746, 171400.0000064562, 344100.0000182688, 97846.15384754816, 67899.99999832993, 234830.7692132602, 92800.00000349287, 135392.8571397803, 500001.0000302853, 273799.99995393056, 181300.00000382893, 153099.99999235236, 372000.0000009572, 249399.99995405297, 209199.99996839106, 183200.0000061575, 132000.0000076782, 181299.99999168026, 99099.99999395112, 66799.99999747454, 93199.99999957229, 308100.0, 270600.0000260081, 477700.0000093482, 261299.9999981342, 500000.99999999994, 332766.66669368633, 182900.00000058382, 238043.75000467285, 253899.99999999997, 500001.000052546, 133500.00000257127, 364700.0000140325, 185600.00001374746, 272750.0000296639, 127399.99994083507, 177899.99999923963, 362500.00003468426, 97523.07691206329, 70799.99999869654, 416999.9999830955, 162500.0000029735, 247900.00000633398, 221060.00001176953, 110000.00000022401, 163700.00000276987, 81299.99998905703, 209500.0000050957, 238043.74999675024, 109299.9999998778, 224199.9999992668, 367500.000008615, 500001.0000000002, 141000.00000065987, 107566.66666276986, 336999.9999915885, 253500.000003391, 106699.99999729123, 136399.99999209776, 464300.0000218533, 89799.99999356415, 122499.99998613713, 87419.99999861914, 249399.99999478614, 252800.0000134623, 116099.9999984725, 135300.00000419142, 127500.00001052952, 67833.33333759673, 174200.0, 195299.9999820774, 105099.99998507129, 94999.99999999999, 305775.0000161259, 357200.000034562, 223824.9999839562, 115399.9999924403, 215450.00000636352, 351900.000027556, 198400.00001178717, 118225.00000393584, 73199.99999637474, 74700.00000287169, 270717.6470687086, 237199.99999999997, 79999.99999617107, 179700.00000250273, 124899.99998372709, 332100.0000016904, 141299.99998175155, 316700.0000110387, 162300.00000448062, 202599.99999784114, 203600.00001201627, 156199.99999100834, 219000.00002116087, 500000.99999999994, 371699.99999999994, 158000.00000785897, 137200.0000097352, 353399.99999999994, 350200.0000009572, 128099.99999407331, 135999.99998368637, 57082.4999996502, 195350.00000764764, 75662.49999766184, 105200.00000478614, 162500.00000851322, 339700.00000490836, 223300.0000072912, 60800.00000246435, 260963.46153744697, 172985.7142834914, 189525.9259257859, 167733.33333312627, 144799.99999764672, 281899.9999915251, 217099.99997270879, 274999.99999025604, 189699.99997674135, 54999.99999999999, 157300.00001195518, 139799.99999904278, 140700.0, 353900.0000199185, 153300.0000077393, 86100.00000194705, 153300.00000264763, 267100.00000262726, 101400.00000130346, 93500.00000808554, 311699.9999985336, 294800.0, 111483.33333070845, 172800.00000247598, 174999.99999411404, 177999.9999917719, 57500.000001201624, 165161.11108382375, 162499.99999236251, 156300.0000241955, 189525.9259257859, 234599.9999735438, 147899.9999864155, 161299.99999929225, 226899.99998348267, 95800.0000018873, 182527.77778255683, 243200.000005478, 69999.99999480031, 375699.99999525456, 108514.28571527753, 155800.00001221994, 87000.00000364562, 394299.99997847225, 193800.00001464353, 145100.00001784114, 294700.00001531566, 273600.0000123421, 124118.18180527311, 298600.0000163713, 243200.00001221994, 213891.66667139, 438099.9999873928, 392900.0000068635, 301699.99999370676, 187433.3333376782, 122528.57143470758, 189900.00000401976, 320121.0526433653, 333299.99999535637, 500000.99999999994, 447700.0000221995, 208620.00000786554, 217299.99996855398, 114299.99999144602, 276099.9999871486, 337400.00000391033, 167308.21917834354, 433300.000013727, 132600.0000082892, 121899.99999999999, 173342.8571443475, 255400.00002146635, 130599.99999999999, 110324.99999672268, 222600.00001898163, 59759.99998972709, 110700.00000272329, 87000.0, 425099.99998474517, 110100.00000262728, 159700.00000073318, 178903.70370277326, 409900.0000008146, 112018.75000157712, 98799.99998894094, 183099.99999992418, 209577.77777012414, 123600.00000297351, 329400.0000091649, 249399.9999703055, 183899.99999999997, 204600.0000009124, 92600.00000097758, 234830.76923578567, 353500.00002107356, 158899.9999701222, 373999.99997765786, 500001.00000323844, 214700.00001690426, 212799.9999773931, 306400.0000070061, 500000.99999999994, 265000.0000137678, 159950.00000245415, 196100.00000260692, 117624.99999595212, 186900.0, 155399.99997904277, 124000.00000543206, 97523.07691371298, 500000.99999999994, 500001.0000056621, 294499.9999785132, 123599.99999272912, 190230.55556124405, 170499.9999994297, 82557.89473045878, 100000.00000702647, 193999.99996759676, 232100.0000167413, 180699.99998107943, 153099.99999708522, 110087.49999339867, 500001.00003055006, 450400.0000189002, 99499.9999944399, 96899.99999930752, 68299.99999951119, 187200.00000999996, 419999.99998370645, 203396.15384953388, 158399.9999975153, 304600.0000034826, 304700.00000947044, 249500.00000016292, 81099.99999710794, 160166.6666589002, 153799.9999555601, 81800.0000002444, 115300.00000269063, 119799.9999963951, 137500.00001399184, 238699.99999548268, 244800.00000448062, 135392.85713696972, 197599.99998586558, 275900.00002002035, 500000.99999999994, 200000.00000878816, 213899.9999977079, 360099.9999985132, 160155.55556071963, 48500.00000189409, 500000.99999999994, 255700.00001564153, 236999.99999606924, 57099.99998716905, 125300.00000150711, 97523.07690929344, 141899.9999865173, 184797.05883117078, 118200.00000393075, 275799.9999992872, 124502.38095492724, 281799.99998916493, 500001.00002317736, 251280.00000195112, 203122.22221819413, 353800.0000022403, 54999.99999683865, 362699.9999956823, 221100.0000162525, 93799.99998686355, 82557.89473045878, 214699.9999957434, 344199.9999682686, 189899.99999083503, 146899.9999828106, 148800.00000340122, 322600.0, 84700.00000002037, 174999.99994749494, 122999.9999907332, 173200.0000127902, 134200.00000031397, 218199.99999637474, 165161.11108382375, 91400.00000040732, 138200.0000015071, 462799.9999924234, 326100.0, 97999.99998686355, 186900.00001231837, 261300.00000057026, 347700.0000271079, 101099.99997181265, 143799.9999984725, 155699.9999878004, 307100.00002837065, 154300.0000069857, 182416.66667275966, 442899.99998837063, 173799.99999879836, 97523.07692097571, 193999.99998862864, 67119.99999900465, 172985.71427655753, 405599.9999807737, 297499.9999951324, 104699.99999295316, 349999.9999793279, 442100.0000156619, 165000.000015112, 185335.5932219857, 83299.99999560081, 195349.99999985305, 237500.00000505673, 162499.99999236251, 155499.99996936866, 260963.4615395946, 175500.0000010387, 72199.99999649695, 479700.00003617106, 133299.9999937067, 86400.00000039968, 500000.99999999994, 73140.0000006395, 185335.59322813642, 105200.00000072447, 136999.99999577054, 472199.99999433785, 187500.00001018328, 48649.99999662933, 431400.0000195722, 195533.33331918533, 117399.99996822812, 260299.99999869653, 184399.99999130346, 130399.99996725054, 66740.00000088391, 98500.00000138492, 230487.87878492824, 93199.99999682281, 91099.99999517312, 259599.999976945, 106581.81817609146, 468800.0000010794, 182527.7777731602, 500000.99999999994, 247899.999974277, 50070.64220252134, 101900.00000949082, 288900.0, 92199.99996985745, 157299.99999599642, 419100.0000110386, 91471.42857446958, 339099.9999672299, 238599.9999535438, 86400.00000039968, 160699.99999489408, 92799.99999307535, 112674.99999899694, 174300.00000641544, 262500.0000143177, 223700.00000589568, 158408.3333426833, 101900.0000057841, 167799.99998995927, 102499.99992922612, 146599.9999765784, 160166.66666205702, 98499.99999769857, 368599.99997323804, 97436.73469426578, 198699.9999931396, 71326.08695068184, 286500.00001089607, 395499.9999977189, 336900.00001, 188000.0, 143799.99997340122, 109800.0000024236, 287499.99999706715, 166700.00001093684, 168280.00000085132, 71299.99998228108, 308800.000022668, 149999.99998462587, 263900.0, 477700.0000093482, 162499.99999490834, 67500.00000224033, 141643.75000310122, 142899.99999947046, 252400.00000969853, 433300.000013727, 175100.00000384927, 163399.99999763747, 68099.99999955448, 303100.0000225865, 169499.99999999997, 128157.69232198103, 264400.00002154784, 155099.9999898778, 259900.0000178615, 54199.99999782077, 133500.0000001516, 352999.99998759676, 324399.9999964766, 221300.00000879835, 153650.00000227088, 72499.99999979633, 86999.99999545825, 328600.00004527485, 159680.00000616699, 229199.99999661912, 70714.28571192609, 304499.99999814667, 444499.9999886963, 177399.99999760487, 418299.9999931161, 263999.99999908346, 53999.99999908757, 80700.0000046232, 265499.99999999994, 500000.99999999994, 271299.99999714183, 189599.99999781078, 238699.99999763747, 481300.0000228309, 98799.99998651732, 193660.71427476942, 189525.92593319042, 250800.0000038921, 483299.9999965985, 52999.99999723105, 140200.00000085708, 176235.29412202284, 118199.99999999999, 313799.9999891853, 239000.00003085536, 62200.000000787506, 278442.85714814084, 127800.00000289205, 184399.99998971485, 158408.3333351877, 213449.9999620061, 356000.0000089002, 176800.0000066191, 318500.0, 162500.00000143074, 94700.00000050916, 141643.75000171651, 253699.9999954786, 109000.0000009776, 252599.99999999997, 500000.99999999994, 180600.0000048676, 118099.99998527495, 69590.90908821885, 111815.3846149193, 168280.00000637065, 125746.66666477597, 192949.9999934411, 500001.00001389015, 113900.00000254581, 310900.0000020366, 69500.00000370671, 219550.00000829936, 326700.0000158452, 194399.9999930346, 225000.00002213847, 382200.00001615065, 176235.29411545463, 158449.99999928463, 88299.99999423625, 108646.42856410095, 260963.46153744697, 306000.000030448, 340600.00000185333, 204200.00000374744, 189599.9999937067, 160212.7659515227, 175400.0000004073, 337200.00001890014, 135392.8571419188, 57099.99999727314, 190799.999966721, 241399.99999069248, 236799.99999703869, 187500.00000276984, 104275.00000588084, 254923.0769324299, 163400.0000068024, 180279.9999863096, 213133.33335242106, 73999.99999999999, 112018.74999849414, 209899.9999955622, 160212.76595598063, 236199.99999415476, 281360.0000107454, 159700.0000014664, 222399.99999264764, 406200.00000741344, 201599.99998325866, 93799.99999109979, 215712.49999199845, 116700.00000061099, 72560.00000048065, 42099.99999529532, 188700.0000032179, 407000.00001623214, 169300.00000158857, 230800.0, 452100.0000374134, 90099.99999959266, 222190.90908992963, 249400.00000582484, 135118.18181659692, 101899.9999887169, 315599.9999952953, 366699.99997698574, 222190.90909210825, 94600.00000262728, 98099.99999940935, 137299.99999055895, 83299.9999889613, 264299.99999625253, 124999.99998812626, 264400.00000342156, 160200.00000519346, 173166.66666152747, 290900.0, 348200.00000537676, 451300.0000290224, 94900.00000075356, 182416.66666125253, 108646.42856410095, 96500.00000173115, 293499.99995794275, 182416.6666740631, 328900.0000038493, 225000.0000004888, 312999.9999981059, 118800.00000059411, 87900.00000344195, 113899.99999153259, 209899.9999955622, 216499.999978778, 349000.0000239714, 148200.000002668]\n"
          ],
          "name": "stdout"
        }
      ]
    },
    {
      "cell_type": "code",
      "metadata": {
        "colab_type": "code",
        "id": "qG_0MN9926en",
        "colab": {
          "base_uri": "https://localhost:8080/",
          "height": 34
        },
        "outputId": "27f10d40-8f7b-415a-f1bd-b408ce81c2f7"
      },
      "source": [
        "print(\"Weighted Random Forest Regressor MSE: {}\".format('%.3f' % mean_squared_error(y_test, wrf_reg_preds)))"
      ],
      "execution_count": null,
      "outputs": [
        {
          "output_type": "stream",
          "text": [
            "Weighted Random Forest Regressor MSE: 4240806657.520\n"
          ],
          "name": "stdout"
        }
      ]
    },
    {
      "cell_type": "markdown",
      "metadata": {
        "id": "Z52eC5a0Uugs",
        "colab_type": "text"
      },
      "source": [
        "> For conclusion, we can see that overall the Random Forest model (as both Classifier and Regressor) provided by sklearn is better than our Weighted Random Forest model.\n",
        "\n",
        "\n"
      ]
    }
  ]
}